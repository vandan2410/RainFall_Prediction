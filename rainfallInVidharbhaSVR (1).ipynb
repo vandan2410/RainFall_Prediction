{
  "nbformat": 4,
  "nbformat_minor": 0,
  "metadata": {
    "colab": {
      "provenance": []
    },
    "kernelspec": {
      "name": "python3",
      "display_name": "Python 3"
    },
    "language_info": {
      "name": "python"
    }
  },
  "cells": [
    {
      "cell_type": "code",
      "execution_count": null,
      "metadata": {
        "id": "Q20nqr3GtPJK"
      },
      "outputs": [],
      "source": [
        "import numpy as np\n",
        "import pandas as pd\n",
        "\n",
        "import matplotlib.pyplot as plt\n",
        "import seaborn as sns\n"
      ]
    },
    {
      "cell_type": "code",
      "source": [
        "df = pd.read_csv(\"rainfall in india 1901-2015 (1).csv\")\n",
        "df.head()"
      ],
      "metadata": {
        "colab": {
          "base_uri": "https://localhost:8080/",
          "height": 461
        },
        "id": "bob_-rBTtcBf",
        "outputId": "445c7074-bceb-4a2e-c2ec-2180aa93704a"
      },
      "execution_count": null,
      "outputs": [
        {
          "output_type": "execute_result",
          "data": {
            "text/plain": [
              "                 SUBDIVISION  YEAR   JAN    FEB   MAR    APR    MAY    JUN  \\\n",
              "0  ANDAMAN & NICOBAR ISLANDS  1901  49.2   87.1  29.2    2.3  528.8  517.5   \n",
              "1  ANDAMAN & NICOBAR ISLANDS  1902   0.0  159.8  12.2    0.0  446.1  537.1   \n",
              "2  ANDAMAN & NICOBAR ISLANDS  1903  12.7  144.0   0.0    1.0  235.1  479.9   \n",
              "3  ANDAMAN & NICOBAR ISLANDS  1904   9.4   14.7   0.0  202.4  304.5  495.1   \n",
              "4  ANDAMAN & NICOBAR ISLANDS  1905   1.3    0.0   3.3   26.9  279.5  628.7   \n",
              "\n",
              "     JUL    AUG    SEP    OCT    NOV    DEC  ANNUAL  Jan-Feb  Mar-May  \\\n",
              "0  365.1  481.1  332.6  388.5  558.2   33.6  3373.2    136.3    560.3   \n",
              "1  228.9  753.7  666.2  197.2  359.0  160.5  3520.7    159.8    458.3   \n",
              "2  728.4  326.7  339.0  181.2  284.4  225.0  2957.4    156.7    236.1   \n",
              "3  502.0  160.1  820.4  222.2  308.7   40.1  3079.6     24.1    506.9   \n",
              "4  368.7  330.5  297.0  260.7   25.4  344.7  2566.7      1.3    309.7   \n",
              "\n",
              "   Jun-Sep  Oct-Dec  \n",
              "0   1696.3    980.3  \n",
              "1   2185.9    716.7  \n",
              "2   1874.0    690.6  \n",
              "3   1977.6    571.0  \n",
              "4   1624.9    630.8  "
            ],
            "text/html": [
              "\n",
              "  <div id=\"df-a29d8af6-76e3-4651-b357-bbf3b3f6e001\">\n",
              "    <div class=\"colab-df-container\">\n",
              "      <div>\n",
              "<style scoped>\n",
              "    .dataframe tbody tr th:only-of-type {\n",
              "        vertical-align: middle;\n",
              "    }\n",
              "\n",
              "    .dataframe tbody tr th {\n",
              "        vertical-align: top;\n",
              "    }\n",
              "\n",
              "    .dataframe thead th {\n",
              "        text-align: right;\n",
              "    }\n",
              "</style>\n",
              "<table border=\"1\" class=\"dataframe\">\n",
              "  <thead>\n",
              "    <tr style=\"text-align: right;\">\n",
              "      <th></th>\n",
              "      <th>SUBDIVISION</th>\n",
              "      <th>YEAR</th>\n",
              "      <th>JAN</th>\n",
              "      <th>FEB</th>\n",
              "      <th>MAR</th>\n",
              "      <th>APR</th>\n",
              "      <th>MAY</th>\n",
              "      <th>JUN</th>\n",
              "      <th>JUL</th>\n",
              "      <th>AUG</th>\n",
              "      <th>SEP</th>\n",
              "      <th>OCT</th>\n",
              "      <th>NOV</th>\n",
              "      <th>DEC</th>\n",
              "      <th>ANNUAL</th>\n",
              "      <th>Jan-Feb</th>\n",
              "      <th>Mar-May</th>\n",
              "      <th>Jun-Sep</th>\n",
              "      <th>Oct-Dec</th>\n",
              "    </tr>\n",
              "  </thead>\n",
              "  <tbody>\n",
              "    <tr>\n",
              "      <th>0</th>\n",
              "      <td>ANDAMAN &amp; NICOBAR ISLANDS</td>\n",
              "      <td>1901</td>\n",
              "      <td>49.2</td>\n",
              "      <td>87.1</td>\n",
              "      <td>29.2</td>\n",
              "      <td>2.3</td>\n",
              "      <td>528.8</td>\n",
              "      <td>517.5</td>\n",
              "      <td>365.1</td>\n",
              "      <td>481.1</td>\n",
              "      <td>332.6</td>\n",
              "      <td>388.5</td>\n",
              "      <td>558.2</td>\n",
              "      <td>33.6</td>\n",
              "      <td>3373.2</td>\n",
              "      <td>136.3</td>\n",
              "      <td>560.3</td>\n",
              "      <td>1696.3</td>\n",
              "      <td>980.3</td>\n",
              "    </tr>\n",
              "    <tr>\n",
              "      <th>1</th>\n",
              "      <td>ANDAMAN &amp; NICOBAR ISLANDS</td>\n",
              "      <td>1902</td>\n",
              "      <td>0.0</td>\n",
              "      <td>159.8</td>\n",
              "      <td>12.2</td>\n",
              "      <td>0.0</td>\n",
              "      <td>446.1</td>\n",
              "      <td>537.1</td>\n",
              "      <td>228.9</td>\n",
              "      <td>753.7</td>\n",
              "      <td>666.2</td>\n",
              "      <td>197.2</td>\n",
              "      <td>359.0</td>\n",
              "      <td>160.5</td>\n",
              "      <td>3520.7</td>\n",
              "      <td>159.8</td>\n",
              "      <td>458.3</td>\n",
              "      <td>2185.9</td>\n",
              "      <td>716.7</td>\n",
              "    </tr>\n",
              "    <tr>\n",
              "      <th>2</th>\n",
              "      <td>ANDAMAN &amp; NICOBAR ISLANDS</td>\n",
              "      <td>1903</td>\n",
              "      <td>12.7</td>\n",
              "      <td>144.0</td>\n",
              "      <td>0.0</td>\n",
              "      <td>1.0</td>\n",
              "      <td>235.1</td>\n",
              "      <td>479.9</td>\n",
              "      <td>728.4</td>\n",
              "      <td>326.7</td>\n",
              "      <td>339.0</td>\n",
              "      <td>181.2</td>\n",
              "      <td>284.4</td>\n",
              "      <td>225.0</td>\n",
              "      <td>2957.4</td>\n",
              "      <td>156.7</td>\n",
              "      <td>236.1</td>\n",
              "      <td>1874.0</td>\n",
              "      <td>690.6</td>\n",
              "    </tr>\n",
              "    <tr>\n",
              "      <th>3</th>\n",
              "      <td>ANDAMAN &amp; NICOBAR ISLANDS</td>\n",
              "      <td>1904</td>\n",
              "      <td>9.4</td>\n",
              "      <td>14.7</td>\n",
              "      <td>0.0</td>\n",
              "      <td>202.4</td>\n",
              "      <td>304.5</td>\n",
              "      <td>495.1</td>\n",
              "      <td>502.0</td>\n",
              "      <td>160.1</td>\n",
              "      <td>820.4</td>\n",
              "      <td>222.2</td>\n",
              "      <td>308.7</td>\n",
              "      <td>40.1</td>\n",
              "      <td>3079.6</td>\n",
              "      <td>24.1</td>\n",
              "      <td>506.9</td>\n",
              "      <td>1977.6</td>\n",
              "      <td>571.0</td>\n",
              "    </tr>\n",
              "    <tr>\n",
              "      <th>4</th>\n",
              "      <td>ANDAMAN &amp; NICOBAR ISLANDS</td>\n",
              "      <td>1905</td>\n",
              "      <td>1.3</td>\n",
              "      <td>0.0</td>\n",
              "      <td>3.3</td>\n",
              "      <td>26.9</td>\n",
              "      <td>279.5</td>\n",
              "      <td>628.7</td>\n",
              "      <td>368.7</td>\n",
              "      <td>330.5</td>\n",
              "      <td>297.0</td>\n",
              "      <td>260.7</td>\n",
              "      <td>25.4</td>\n",
              "      <td>344.7</td>\n",
              "      <td>2566.7</td>\n",
              "      <td>1.3</td>\n",
              "      <td>309.7</td>\n",
              "      <td>1624.9</td>\n",
              "      <td>630.8</td>\n",
              "    </tr>\n",
              "  </tbody>\n",
              "</table>\n",
              "</div>\n",
              "      <button class=\"colab-df-convert\" onclick=\"convertToInteractive('df-a29d8af6-76e3-4651-b357-bbf3b3f6e001')\"\n",
              "              title=\"Convert this dataframe to an interactive table.\"\n",
              "              style=\"display:none;\">\n",
              "        \n",
              "  <svg xmlns=\"http://www.w3.org/2000/svg\" height=\"24px\"viewBox=\"0 0 24 24\"\n",
              "       width=\"24px\">\n",
              "    <path d=\"M0 0h24v24H0V0z\" fill=\"none\"/>\n",
              "    <path d=\"M18.56 5.44l.94 2.06.94-2.06 2.06-.94-2.06-.94-.94-2.06-.94 2.06-2.06.94zm-11 1L8.5 8.5l.94-2.06 2.06-.94-2.06-.94L8.5 2.5l-.94 2.06-2.06.94zm10 10l.94 2.06.94-2.06 2.06-.94-2.06-.94-.94-2.06-.94 2.06-2.06.94z\"/><path d=\"M17.41 7.96l-1.37-1.37c-.4-.4-.92-.59-1.43-.59-.52 0-1.04.2-1.43.59L10.3 9.45l-7.72 7.72c-.78.78-.78 2.05 0 2.83L4 21.41c.39.39.9.59 1.41.59.51 0 1.02-.2 1.41-.59l7.78-7.78 2.81-2.81c.8-.78.8-2.07 0-2.86zM5.41 20L4 18.59l7.72-7.72 1.47 1.35L5.41 20z\"/>\n",
              "  </svg>\n",
              "      </button>\n",
              "      \n",
              "  <style>\n",
              "    .colab-df-container {\n",
              "      display:flex;\n",
              "      flex-wrap:wrap;\n",
              "      gap: 12px;\n",
              "    }\n",
              "\n",
              "    .colab-df-convert {\n",
              "      background-color: #E8F0FE;\n",
              "      border: none;\n",
              "      border-radius: 50%;\n",
              "      cursor: pointer;\n",
              "      display: none;\n",
              "      fill: #1967D2;\n",
              "      height: 32px;\n",
              "      padding: 0 0 0 0;\n",
              "      width: 32px;\n",
              "    }\n",
              "\n",
              "    .colab-df-convert:hover {\n",
              "      background-color: #E2EBFA;\n",
              "      box-shadow: 0px 1px 2px rgba(60, 64, 67, 0.3), 0px 1px 3px 1px rgba(60, 64, 67, 0.15);\n",
              "      fill: #174EA6;\n",
              "    }\n",
              "\n",
              "    [theme=dark] .colab-df-convert {\n",
              "      background-color: #3B4455;\n",
              "      fill: #D2E3FC;\n",
              "    }\n",
              "\n",
              "    [theme=dark] .colab-df-convert:hover {\n",
              "      background-color: #434B5C;\n",
              "      box-shadow: 0px 1px 3px 1px rgba(0, 0, 0, 0.15);\n",
              "      filter: drop-shadow(0px 1px 2px rgba(0, 0, 0, 0.3));\n",
              "      fill: #FFFFFF;\n",
              "    }\n",
              "  </style>\n",
              "\n",
              "      <script>\n",
              "        const buttonEl =\n",
              "          document.querySelector('#df-a29d8af6-76e3-4651-b357-bbf3b3f6e001 button.colab-df-convert');\n",
              "        buttonEl.style.display =\n",
              "          google.colab.kernel.accessAllowed ? 'block' : 'none';\n",
              "\n",
              "        async function convertToInteractive(key) {\n",
              "          const element = document.querySelector('#df-a29d8af6-76e3-4651-b357-bbf3b3f6e001');\n",
              "          const dataTable =\n",
              "            await google.colab.kernel.invokeFunction('convertToInteractive',\n",
              "                                                     [key], {});\n",
              "          if (!dataTable) return;\n",
              "\n",
              "          const docLinkHtml = 'Like what you see? Visit the ' +\n",
              "            '<a target=\"_blank\" href=https://colab.research.google.com/notebooks/data_table.ipynb>data table notebook</a>'\n",
              "            + ' to learn more about interactive tables.';\n",
              "          element.innerHTML = '';\n",
              "          dataTable['output_type'] = 'display_data';\n",
              "          await google.colab.output.renderOutput(dataTable, element);\n",
              "          const docLink = document.createElement('div');\n",
              "          docLink.innerHTML = docLinkHtml;\n",
              "          element.appendChild(docLink);\n",
              "        }\n",
              "      </script>\n",
              "    </div>\n",
              "  </div>\n",
              "  "
            ]
          },
          "metadata": {},
          "execution_count": 5
        }
      ]
    },
    {
      "cell_type": "code",
      "source": [
        "df.info()"
      ],
      "metadata": {
        "colab": {
          "base_uri": "https://localhost:8080/"
        },
        "id": "EWhWZ0WatlER",
        "outputId": "ed190d87-b983-464d-b62b-d2ebef24ae3e"
      },
      "execution_count": null,
      "outputs": [
        {
          "output_type": "stream",
          "name": "stdout",
          "text": [
            "<class 'pandas.core.frame.DataFrame'>\n",
            "RangeIndex: 4116 entries, 0 to 4115\n",
            "Data columns (total 19 columns):\n",
            " #   Column       Non-Null Count  Dtype  \n",
            "---  ------       --------------  -----  \n",
            " 0   SUBDIVISION  4116 non-null   object \n",
            " 1   YEAR         4116 non-null   int64  \n",
            " 2   JAN          4112 non-null   float64\n",
            " 3   FEB          4113 non-null   float64\n",
            " 4   MAR          4110 non-null   float64\n",
            " 5   APR          4112 non-null   float64\n",
            " 6   MAY          4113 non-null   float64\n",
            " 7   JUN          4111 non-null   float64\n",
            " 8   JUL          4109 non-null   float64\n",
            " 9   AUG          4112 non-null   float64\n",
            " 10  SEP          4110 non-null   float64\n",
            " 11  OCT          4109 non-null   float64\n",
            " 12  NOV          4105 non-null   float64\n",
            " 13  DEC          4106 non-null   float64\n",
            " 14  ANNUAL       4090 non-null   float64\n",
            " 15  Jan-Feb      4110 non-null   float64\n",
            " 16  Mar-May      4107 non-null   float64\n",
            " 17  Jun-Sep      4106 non-null   float64\n",
            " 18  Oct-Dec      4103 non-null   float64\n",
            "dtypes: float64(17), int64(1), object(1)\n",
            "memory usage: 611.1+ KB\n"
          ]
        }
      ]
    },
    {
      "cell_type": "code",
      "source": [
        "df.describe()"
      ],
      "metadata": {
        "colab": {
          "base_uri": "https://localhost:8080/",
          "height": 364
        },
        "id": "KqUVFZ82topu",
        "outputId": "5636e216-2678-4318-e18b-ec98155876f8"
      },
      "execution_count": null,
      "outputs": [
        {
          "output_type": "execute_result",
          "data": {
            "text/plain": [
              "              YEAR          JAN          FEB          MAR          APR  \\\n",
              "count  4116.000000  4112.000000  4113.000000  4110.000000  4112.000000   \n",
              "mean   1958.218659    18.957320    21.805325    27.359197    43.127432   \n",
              "std      33.140898    33.585371    35.909488    46.959424    67.831168   \n",
              "min    1901.000000     0.000000     0.000000     0.000000     0.000000   \n",
              "25%    1930.000000     0.600000     0.600000     1.000000     3.000000   \n",
              "50%    1958.000000     6.000000     6.700000     7.800000    15.700000   \n",
              "75%    1987.000000    22.200000    26.800000    31.300000    49.950000   \n",
              "max    2015.000000   583.700000   403.500000   605.600000   595.100000   \n",
              "\n",
              "               MAY          JUN          JUL          AUG          SEP  \\\n",
              "count  4113.000000  4111.000000  4109.000000  4112.000000  4110.000000   \n",
              "mean     85.745417   230.234444   347.214334   290.263497   197.361922   \n",
              "std     123.234904   234.710758   269.539667   188.770477   135.408345   \n",
              "min       0.000000     0.400000     0.000000     0.000000     0.100000   \n",
              "25%       8.600000    70.350000   175.600000   155.975000   100.525000   \n",
              "50%      36.600000   138.700000   284.800000   259.400000   173.900000   \n",
              "75%      97.200000   305.150000   418.400000   377.800000   265.800000   \n",
              "max    1168.600000  1609.900000  2362.800000  1664.600000  1222.000000   \n",
              "\n",
              "               OCT          NOV          DEC       ANNUAL      Jan-Feb  \\\n",
              "count  4109.000000  4105.000000  4106.000000  4090.000000  4110.000000   \n",
              "mean     95.507009    39.866163    18.870580  1411.008900    40.747786   \n",
              "std      99.519134    68.685410    42.369611   903.846565    59.308277   \n",
              "min       0.000000     0.000000     0.000000    62.300000     0.000000   \n",
              "25%      14.600000     0.700000     0.100000   804.500000     4.100000   \n",
              "50%      65.200000     9.500000     3.000000  1121.300000    19.200000   \n",
              "75%     148.400000    46.100000    17.500000  1644.775000    50.375000   \n",
              "max     948.300000   648.900000   617.500000  6331.100000   699.500000   \n",
              "\n",
              "           Mar-May      Jun-Sep      Oct-Dec  \n",
              "count  4107.000000  4106.000000  4103.000000  \n",
              "mean    155.901753  1064.724769   154.100487  \n",
              "std     201.316965   707.741531   166.942660  \n",
              "min       0.000000    57.400000     0.000000  \n",
              "25%      24.050000   573.850000    34.200000  \n",
              "50%      74.800000   881.100000    98.200000  \n",
              "75%     196.950000  1288.175000   213.500000  \n",
              "max    1745.800000  4536.900000  1252.500000  "
            ],
            "text/html": [
              "\n",
              "  <div id=\"df-bf4b9e68-a0ff-439b-a44f-6835624c81a8\">\n",
              "    <div class=\"colab-df-container\">\n",
              "      <div>\n",
              "<style scoped>\n",
              "    .dataframe tbody tr th:only-of-type {\n",
              "        vertical-align: middle;\n",
              "    }\n",
              "\n",
              "    .dataframe tbody tr th {\n",
              "        vertical-align: top;\n",
              "    }\n",
              "\n",
              "    .dataframe thead th {\n",
              "        text-align: right;\n",
              "    }\n",
              "</style>\n",
              "<table border=\"1\" class=\"dataframe\">\n",
              "  <thead>\n",
              "    <tr style=\"text-align: right;\">\n",
              "      <th></th>\n",
              "      <th>YEAR</th>\n",
              "      <th>JAN</th>\n",
              "      <th>FEB</th>\n",
              "      <th>MAR</th>\n",
              "      <th>APR</th>\n",
              "      <th>MAY</th>\n",
              "      <th>JUN</th>\n",
              "      <th>JUL</th>\n",
              "      <th>AUG</th>\n",
              "      <th>SEP</th>\n",
              "      <th>OCT</th>\n",
              "      <th>NOV</th>\n",
              "      <th>DEC</th>\n",
              "      <th>ANNUAL</th>\n",
              "      <th>Jan-Feb</th>\n",
              "      <th>Mar-May</th>\n",
              "      <th>Jun-Sep</th>\n",
              "      <th>Oct-Dec</th>\n",
              "    </tr>\n",
              "  </thead>\n",
              "  <tbody>\n",
              "    <tr>\n",
              "      <th>count</th>\n",
              "      <td>4116.000000</td>\n",
              "      <td>4112.000000</td>\n",
              "      <td>4113.000000</td>\n",
              "      <td>4110.000000</td>\n",
              "      <td>4112.000000</td>\n",
              "      <td>4113.000000</td>\n",
              "      <td>4111.000000</td>\n",
              "      <td>4109.000000</td>\n",
              "      <td>4112.000000</td>\n",
              "      <td>4110.000000</td>\n",
              "      <td>4109.000000</td>\n",
              "      <td>4105.000000</td>\n",
              "      <td>4106.000000</td>\n",
              "      <td>4090.000000</td>\n",
              "      <td>4110.000000</td>\n",
              "      <td>4107.000000</td>\n",
              "      <td>4106.000000</td>\n",
              "      <td>4103.000000</td>\n",
              "    </tr>\n",
              "    <tr>\n",
              "      <th>mean</th>\n",
              "      <td>1958.218659</td>\n",
              "      <td>18.957320</td>\n",
              "      <td>21.805325</td>\n",
              "      <td>27.359197</td>\n",
              "      <td>43.127432</td>\n",
              "      <td>85.745417</td>\n",
              "      <td>230.234444</td>\n",
              "      <td>347.214334</td>\n",
              "      <td>290.263497</td>\n",
              "      <td>197.361922</td>\n",
              "      <td>95.507009</td>\n",
              "      <td>39.866163</td>\n",
              "      <td>18.870580</td>\n",
              "      <td>1411.008900</td>\n",
              "      <td>40.747786</td>\n",
              "      <td>155.901753</td>\n",
              "      <td>1064.724769</td>\n",
              "      <td>154.100487</td>\n",
              "    </tr>\n",
              "    <tr>\n",
              "      <th>std</th>\n",
              "      <td>33.140898</td>\n",
              "      <td>33.585371</td>\n",
              "      <td>35.909488</td>\n",
              "      <td>46.959424</td>\n",
              "      <td>67.831168</td>\n",
              "      <td>123.234904</td>\n",
              "      <td>234.710758</td>\n",
              "      <td>269.539667</td>\n",
              "      <td>188.770477</td>\n",
              "      <td>135.408345</td>\n",
              "      <td>99.519134</td>\n",
              "      <td>68.685410</td>\n",
              "      <td>42.369611</td>\n",
              "      <td>903.846565</td>\n",
              "      <td>59.308277</td>\n",
              "      <td>201.316965</td>\n",
              "      <td>707.741531</td>\n",
              "      <td>166.942660</td>\n",
              "    </tr>\n",
              "    <tr>\n",
              "      <th>min</th>\n",
              "      <td>1901.000000</td>\n",
              "      <td>0.000000</td>\n",
              "      <td>0.000000</td>\n",
              "      <td>0.000000</td>\n",
              "      <td>0.000000</td>\n",
              "      <td>0.000000</td>\n",
              "      <td>0.400000</td>\n",
              "      <td>0.000000</td>\n",
              "      <td>0.000000</td>\n",
              "      <td>0.100000</td>\n",
              "      <td>0.000000</td>\n",
              "      <td>0.000000</td>\n",
              "      <td>0.000000</td>\n",
              "      <td>62.300000</td>\n",
              "      <td>0.000000</td>\n",
              "      <td>0.000000</td>\n",
              "      <td>57.400000</td>\n",
              "      <td>0.000000</td>\n",
              "    </tr>\n",
              "    <tr>\n",
              "      <th>25%</th>\n",
              "      <td>1930.000000</td>\n",
              "      <td>0.600000</td>\n",
              "      <td>0.600000</td>\n",
              "      <td>1.000000</td>\n",
              "      <td>3.000000</td>\n",
              "      <td>8.600000</td>\n",
              "      <td>70.350000</td>\n",
              "      <td>175.600000</td>\n",
              "      <td>155.975000</td>\n",
              "      <td>100.525000</td>\n",
              "      <td>14.600000</td>\n",
              "      <td>0.700000</td>\n",
              "      <td>0.100000</td>\n",
              "      <td>804.500000</td>\n",
              "      <td>4.100000</td>\n",
              "      <td>24.050000</td>\n",
              "      <td>573.850000</td>\n",
              "      <td>34.200000</td>\n",
              "    </tr>\n",
              "    <tr>\n",
              "      <th>50%</th>\n",
              "      <td>1958.000000</td>\n",
              "      <td>6.000000</td>\n",
              "      <td>6.700000</td>\n",
              "      <td>7.800000</td>\n",
              "      <td>15.700000</td>\n",
              "      <td>36.600000</td>\n",
              "      <td>138.700000</td>\n",
              "      <td>284.800000</td>\n",
              "      <td>259.400000</td>\n",
              "      <td>173.900000</td>\n",
              "      <td>65.200000</td>\n",
              "      <td>9.500000</td>\n",
              "      <td>3.000000</td>\n",
              "      <td>1121.300000</td>\n",
              "      <td>19.200000</td>\n",
              "      <td>74.800000</td>\n",
              "      <td>881.100000</td>\n",
              "      <td>98.200000</td>\n",
              "    </tr>\n",
              "    <tr>\n",
              "      <th>75%</th>\n",
              "      <td>1987.000000</td>\n",
              "      <td>22.200000</td>\n",
              "      <td>26.800000</td>\n",
              "      <td>31.300000</td>\n",
              "      <td>49.950000</td>\n",
              "      <td>97.200000</td>\n",
              "      <td>305.150000</td>\n",
              "      <td>418.400000</td>\n",
              "      <td>377.800000</td>\n",
              "      <td>265.800000</td>\n",
              "      <td>148.400000</td>\n",
              "      <td>46.100000</td>\n",
              "      <td>17.500000</td>\n",
              "      <td>1644.775000</td>\n",
              "      <td>50.375000</td>\n",
              "      <td>196.950000</td>\n",
              "      <td>1288.175000</td>\n",
              "      <td>213.500000</td>\n",
              "    </tr>\n",
              "    <tr>\n",
              "      <th>max</th>\n",
              "      <td>2015.000000</td>\n",
              "      <td>583.700000</td>\n",
              "      <td>403.500000</td>\n",
              "      <td>605.600000</td>\n",
              "      <td>595.100000</td>\n",
              "      <td>1168.600000</td>\n",
              "      <td>1609.900000</td>\n",
              "      <td>2362.800000</td>\n",
              "      <td>1664.600000</td>\n",
              "      <td>1222.000000</td>\n",
              "      <td>948.300000</td>\n",
              "      <td>648.900000</td>\n",
              "      <td>617.500000</td>\n",
              "      <td>6331.100000</td>\n",
              "      <td>699.500000</td>\n",
              "      <td>1745.800000</td>\n",
              "      <td>4536.900000</td>\n",
              "      <td>1252.500000</td>\n",
              "    </tr>\n",
              "  </tbody>\n",
              "</table>\n",
              "</div>\n",
              "      <button class=\"colab-df-convert\" onclick=\"convertToInteractive('df-bf4b9e68-a0ff-439b-a44f-6835624c81a8')\"\n",
              "              title=\"Convert this dataframe to an interactive table.\"\n",
              "              style=\"display:none;\">\n",
              "        \n",
              "  <svg xmlns=\"http://www.w3.org/2000/svg\" height=\"24px\"viewBox=\"0 0 24 24\"\n",
              "       width=\"24px\">\n",
              "    <path d=\"M0 0h24v24H0V0z\" fill=\"none\"/>\n",
              "    <path d=\"M18.56 5.44l.94 2.06.94-2.06 2.06-.94-2.06-.94-.94-2.06-.94 2.06-2.06.94zm-11 1L8.5 8.5l.94-2.06 2.06-.94-2.06-.94L8.5 2.5l-.94 2.06-2.06.94zm10 10l.94 2.06.94-2.06 2.06-.94-2.06-.94-.94-2.06-.94 2.06-2.06.94z\"/><path d=\"M17.41 7.96l-1.37-1.37c-.4-.4-.92-.59-1.43-.59-.52 0-1.04.2-1.43.59L10.3 9.45l-7.72 7.72c-.78.78-.78 2.05 0 2.83L4 21.41c.39.39.9.59 1.41.59.51 0 1.02-.2 1.41-.59l7.78-7.78 2.81-2.81c.8-.78.8-2.07 0-2.86zM5.41 20L4 18.59l7.72-7.72 1.47 1.35L5.41 20z\"/>\n",
              "  </svg>\n",
              "      </button>\n",
              "      \n",
              "  <style>\n",
              "    .colab-df-container {\n",
              "      display:flex;\n",
              "      flex-wrap:wrap;\n",
              "      gap: 12px;\n",
              "    }\n",
              "\n",
              "    .colab-df-convert {\n",
              "      background-color: #E8F0FE;\n",
              "      border: none;\n",
              "      border-radius: 50%;\n",
              "      cursor: pointer;\n",
              "      display: none;\n",
              "      fill: #1967D2;\n",
              "      height: 32px;\n",
              "      padding: 0 0 0 0;\n",
              "      width: 32px;\n",
              "    }\n",
              "\n",
              "    .colab-df-convert:hover {\n",
              "      background-color: #E2EBFA;\n",
              "      box-shadow: 0px 1px 2px rgba(60, 64, 67, 0.3), 0px 1px 3px 1px rgba(60, 64, 67, 0.15);\n",
              "      fill: #174EA6;\n",
              "    }\n",
              "\n",
              "    [theme=dark] .colab-df-convert {\n",
              "      background-color: #3B4455;\n",
              "      fill: #D2E3FC;\n",
              "    }\n",
              "\n",
              "    [theme=dark] .colab-df-convert:hover {\n",
              "      background-color: #434B5C;\n",
              "      box-shadow: 0px 1px 3px 1px rgba(0, 0, 0, 0.15);\n",
              "      filter: drop-shadow(0px 1px 2px rgba(0, 0, 0, 0.3));\n",
              "      fill: #FFFFFF;\n",
              "    }\n",
              "  </style>\n",
              "\n",
              "      <script>\n",
              "        const buttonEl =\n",
              "          document.querySelector('#df-bf4b9e68-a0ff-439b-a44f-6835624c81a8 button.colab-df-convert');\n",
              "        buttonEl.style.display =\n",
              "          google.colab.kernel.accessAllowed ? 'block' : 'none';\n",
              "\n",
              "        async function convertToInteractive(key) {\n",
              "          const element = document.querySelector('#df-bf4b9e68-a0ff-439b-a44f-6835624c81a8');\n",
              "          const dataTable =\n",
              "            await google.colab.kernel.invokeFunction('convertToInteractive',\n",
              "                                                     [key], {});\n",
              "          if (!dataTable) return;\n",
              "\n",
              "          const docLinkHtml = 'Like what you see? Visit the ' +\n",
              "            '<a target=\"_blank\" href=https://colab.research.google.com/notebooks/data_table.ipynb>data table notebook</a>'\n",
              "            + ' to learn more about interactive tables.';\n",
              "          element.innerHTML = '';\n",
              "          dataTable['output_type'] = 'display_data';\n",
              "          await google.colab.output.renderOutput(dataTable, element);\n",
              "          const docLink = document.createElement('div');\n",
              "          docLink.innerHTML = docLinkHtml;\n",
              "          element.appendChild(docLink);\n",
              "        }\n",
              "      </script>\n",
              "    </div>\n",
              "  </div>\n",
              "  "
            ]
          },
          "metadata": {},
          "execution_count": 7
        }
      ]
    },
    {
      "cell_type": "code",
      "source": [
        "df.isnull().sum()"
      ],
      "metadata": {
        "colab": {
          "base_uri": "https://localhost:8080/"
        },
        "id": "M3TnICd0tsmv",
        "outputId": "8e774ce9-1112-418b-9017-4f1bf9421eff"
      },
      "execution_count": null,
      "outputs": [
        {
          "output_type": "execute_result",
          "data": {
            "text/plain": [
              "SUBDIVISION     0\n",
              "YEAR            0\n",
              "JAN             4\n",
              "FEB             3\n",
              "MAR             6\n",
              "APR             4\n",
              "MAY             3\n",
              "JUN             5\n",
              "JUL             7\n",
              "AUG             4\n",
              "SEP             6\n",
              "OCT             7\n",
              "NOV            11\n",
              "DEC            10\n",
              "ANNUAL         26\n",
              "Jan-Feb         6\n",
              "Mar-May         9\n",
              "Jun-Sep        10\n",
              "Oct-Dec        13\n",
              "dtype: int64"
            ]
          },
          "metadata": {},
          "execution_count": 8
        }
      ]
    },
    {
      "cell_type": "code",
      "source": [
        "df.duplicated().sum()"
      ],
      "metadata": {
        "colab": {
          "base_uri": "https://localhost:8080/"
        },
        "id": "PNrHFfOTt42S",
        "outputId": "44200560-d628-433a-9fd1-1522d3cca88d"
      },
      "execution_count": null,
      "outputs": [
        {
          "output_type": "execute_result",
          "data": {
            "text/plain": [
              "0"
            ]
          },
          "metadata": {},
          "execution_count": 9
        }
      ]
    },
    {
      "cell_type": "code",
      "source": [
        "df['SUBDIVISION'].value_counts()"
      ],
      "metadata": {
        "colab": {
          "base_uri": "https://localhost:8080/"
        },
        "id": "Eqimj5HPt9qS",
        "outputId": "602a8d16-5d6d-4024-f35c-eca82ad0cfee"
      },
      "execution_count": null,
      "outputs": [
        {
          "output_type": "execute_result",
          "data": {
            "text/plain": [
              "WEST MADHYA PRADESH                   115\n",
              "EAST RAJASTHAN                        115\n",
              "COASTAL KARNATAKA                     115\n",
              "TAMIL NADU                            115\n",
              "RAYALSEEMA                            115\n",
              "TELANGANA                             115\n",
              "COASTAL ANDHRA PRADESH                115\n",
              "CHHATTISGARH                          115\n",
              "VIDARBHA                              115\n",
              "MATATHWADA                            115\n",
              "MADHYA MAHARASHTRA                    115\n",
              "KONKAN & GOA                          115\n",
              "SAURASHTRA & KUTCH                    115\n",
              "GUJARAT REGION                        115\n",
              "EAST MADHYA PRADESH                   115\n",
              "KERALA                                115\n",
              "WEST RAJASTHAN                        115\n",
              "SOUTH INTERIOR KARNATAKA              115\n",
              "JAMMU & KASHMIR                       115\n",
              "HIMACHAL PRADESH                      115\n",
              "PUNJAB                                115\n",
              "HARYANA DELHI & CHANDIGARH            115\n",
              "UTTARAKHAND                           115\n",
              "WEST UTTAR PRADESH                    115\n",
              "EAST UTTAR PRADESH                    115\n",
              "BIHAR                                 115\n",
              "JHARKHAND                             115\n",
              "ORISSA                                115\n",
              "GANGETIC WEST BENGAL                  115\n",
              "SUB HIMALAYAN WEST BENGAL & SIKKIM    115\n",
              "NAGA MANI MIZO TRIPURA                115\n",
              "ASSAM & MEGHALAYA                     115\n",
              "NORTH INTERIOR KARNATAKA              115\n",
              "LAKSHADWEEP                           114\n",
              "ANDAMAN & NICOBAR ISLANDS             110\n",
              "ARUNACHAL PRADESH                      97\n",
              "Name: SUBDIVISION, dtype: int64"
            ]
          },
          "metadata": {},
          "execution_count": 10
        }
      ]
    },
    {
      "cell_type": "code",
      "source": [
        "df.mean(numeric_only=True)"
      ],
      "metadata": {
        "colab": {
          "base_uri": "https://localhost:8080/"
        },
        "id": "-fZXXQV2uC2p",
        "outputId": "ad51533b-7269-4089-f419-7fff201b38a6"
      },
      "execution_count": null,
      "outputs": [
        {
          "output_type": "execute_result",
          "data": {
            "text/plain": [
              "YEAR       1958.218659\n",
              "JAN          18.957320\n",
              "FEB          21.805325\n",
              "MAR          27.359197\n",
              "APR          43.127432\n",
              "MAY          85.745417\n",
              "JUN         230.234444\n",
              "JUL         347.214334\n",
              "AUG         290.263497\n",
              "SEP         197.361922\n",
              "OCT          95.507009\n",
              "NOV          39.866163\n",
              "DEC          18.870580\n",
              "ANNUAL     1411.008900\n",
              "Jan-Feb      40.747786\n",
              "Mar-May     155.901753\n",
              "Jun-Sep    1064.724769\n",
              "Oct-Dec     154.100487\n",
              "dtype: float64"
            ]
          },
          "metadata": {},
          "execution_count": 11
        }
      ]
    },
    {
      "cell_type": "code",
      "source": [
        "df=df.fillna(df.mean(numeric_only=True))"
      ],
      "metadata": {
        "id": "aGQS1KKCuPyh"
      },
      "execution_count": null,
      "outputs": []
    },
    {
      "cell_type": "code",
      "source": [
        "df.head(25)"
      ],
      "metadata": {
        "colab": {
          "base_uri": "https://localhost:8080/",
          "height": 1000
        },
        "id": "QreQGsGXuRUp",
        "outputId": "1928ccc5-c90c-4198-eafb-de7a5ceb6722"
      },
      "execution_count": null,
      "outputs": [
        {
          "output_type": "execute_result",
          "data": {
            "text/plain": [
              "                  SUBDIVISION  YEAR    JAN    FEB         MAR    APR    MAY  \\\n",
              "0   ANDAMAN & NICOBAR ISLANDS  1901   49.2   87.1   29.200000    2.3  528.8   \n",
              "1   ANDAMAN & NICOBAR ISLANDS  1902    0.0  159.8   12.200000    0.0  446.1   \n",
              "2   ANDAMAN & NICOBAR ISLANDS  1903   12.7  144.0    0.000000    1.0  235.1   \n",
              "3   ANDAMAN & NICOBAR ISLANDS  1904    9.4   14.7    0.000000  202.4  304.5   \n",
              "4   ANDAMAN & NICOBAR ISLANDS  1905    1.3    0.0    3.300000   26.9  279.5   \n",
              "5   ANDAMAN & NICOBAR ISLANDS  1906   36.6    0.0    0.000000    0.0  556.1   \n",
              "6   ANDAMAN & NICOBAR ISLANDS  1907  110.7    0.0  113.300000   21.6  616.3   \n",
              "7   ANDAMAN & NICOBAR ISLANDS  1908   20.9   85.1    0.000000   29.0  562.0   \n",
              "8   ANDAMAN & NICOBAR ISLANDS  1910   26.6   22.7  206.300000   89.3  224.5   \n",
              "9   ANDAMAN & NICOBAR ISLANDS  1911    0.0    8.4    0.000000  122.5  327.3   \n",
              "10  ANDAMAN & NICOBAR ISLANDS  1912  583.7    0.8    0.000000   21.9  140.7   \n",
              "11  ANDAMAN & NICOBAR ISLANDS  1913   84.8    0.5    1.300000    2.5  190.7   \n",
              "12  ANDAMAN & NICOBAR ISLANDS  1914    0.0    0.0    0.000000   37.7  298.8   \n",
              "13  ANDAMAN & NICOBAR ISLANDS  1915   45.0   56.7   33.300000   40.9  170.2   \n",
              "14  ANDAMAN & NICOBAR ISLANDS  1916    0.0    0.0    0.000000    0.5  487.4   \n",
              "15  ANDAMAN & NICOBAR ISLANDS  1917    8.0    3.6  112.000000    4.5  295.9   \n",
              "16  ANDAMAN & NICOBAR ISLANDS  1918   77.4    6.9   11.400000   10.7  729.3   \n",
              "17  ANDAMAN & NICOBAR ISLANDS  1919   10.2   18.0    0.000000   35.5  283.9   \n",
              "18  ANDAMAN & NICOBAR ISLANDS  1920  122.3    7.4    3.100000   13.0  237.4   \n",
              "19  ANDAMAN & NICOBAR ISLANDS  1921   13.2    3.1    0.000000   37.5  351.2   \n",
              "20  ANDAMAN & NICOBAR ISLANDS  1922  245.3   34.3   15.600000  323.1  289.7   \n",
              "21  ANDAMAN & NICOBAR ISLANDS  1923   79.5    0.0   27.359197   91.3  293.5   \n",
              "22  ANDAMAN & NICOBAR ISLANDS  1924   28.7    0.0   14.800000   89.7  191.2   \n",
              "23  ANDAMAN & NICOBAR ISLANDS  1925   36.6    0.0    8.600000   50.4  282.2   \n",
              "24  ANDAMAN & NICOBAR ISLANDS  1926  122.1    0.0    0.000000    0.5  198.4   \n",
              "\n",
              "      JUN    JUL    AUG    SEP    OCT    NOV        DEC     ANNUAL  Jan-Feb  \\\n",
              "0   517.5  365.1  481.1  332.6  388.5  558.2   33.60000  3373.2000    136.3   \n",
              "1   537.1  228.9  753.7  666.2  197.2  359.0  160.50000  3520.7000    159.8   \n",
              "2   479.9  728.4  326.7  339.0  181.2  284.4  225.00000  2957.4000    156.7   \n",
              "3   495.1  502.0  160.1  820.4  222.2  308.7   40.10000  3079.6000     24.1   \n",
              "4   628.7  368.7  330.5  297.0  260.7   25.4  344.70000  2566.7000      1.3   \n",
              "5   733.3  247.7  320.5  164.3  267.8  128.9   79.20000  2534.4000     36.6   \n",
              "6   305.2  443.9  377.6  200.4  264.4  648.9  245.60000  3347.9000    110.7   \n",
              "7   693.6  481.4  699.9  428.8  170.7  208.1  196.90000  3576.4000    106.0   \n",
              "8   472.7  264.3  337.4  626.6  208.2  267.3  153.50000  2899.4000     49.3   \n",
              "9   649.0  253.0  187.1  464.5  333.8   94.5  247.10000  2687.2000      8.4   \n",
              "10  549.8  468.9  370.3  386.2  318.7  117.2    2.30000  2960.5000    584.5   \n",
              "11  530.0  280.8  205.8  580.1  288.8  133.0   67.50000  2365.8000     85.3   \n",
              "12  383.3  792.8  520.5  310.8  139.8  184.4  289.70000  2957.8000      0.0   \n",
              "13  334.7  269.0  317.2  429.8  468.1  258.4  318.00000  2741.3000    101.7   \n",
              "14  450.1  317.3  425.0  561.2  369.7  192.6  133.70000  2937.5000      0.0   \n",
              "15  301.1  394.8  437.4  471.8  238.1  108.3  236.90000  2612.4000     11.6   \n",
              "16  710.8  200.9  455.4  303.3  227.0  366.9  175.00000  3275.0000     84.3   \n",
              "17  542.5  246.5  259.8  170.7  186.2  340.4  258.40000  2352.1000     28.2   \n",
              "18  546.9  294.4  467.4  505.4  397.5  262.9   85.50000  2943.2000    129.7   \n",
              "19  282.7  487.1  330.0  581.2  360.7  118.2   41.50000  2606.4000     16.3   \n",
              "20  506.1  425.8  307.4  511.7  162.0  541.0  192.20000  3554.2000    279.6   \n",
              "21  808.4  636.9  182.2  560.5  131.9  197.4   70.60000  1411.0089     79.5   \n",
              "22  261.2  493.3  290.9  251.2  331.1  378.6   18.87058  1411.0089     28.7   \n",
              "23  663.8  241.8  278.2  201.9  249.5  271.5  196.00000  2480.5000     36.6   \n",
              "24  370.0  195.3  523.7  719.3  443.8  148.4  560.70000  3282.2000    122.1   \n",
              "\n",
              "       Mar-May  Jun-Sep      Oct-Dec  \n",
              "0   560.300000   1696.3   980.300000  \n",
              "1   458.300000   2185.9   716.700000  \n",
              "2   236.100000   1874.0   690.600000  \n",
              "3   506.900000   1977.6   571.000000  \n",
              "4   309.700000   1624.9   630.800000  \n",
              "5   556.100000   1465.8   475.900000  \n",
              "6   751.200000   1327.1  1158.900000  \n",
              "7   591.000000   2303.7   575.700000  \n",
              "8   520.100000   1701.0   629.000000  \n",
              "9   449.800000   1553.6   675.400000  \n",
              "10  162.600000   1775.2   438.200000  \n",
              "11  194.500000   1596.7   489.300000  \n",
              "12  336.500000   2007.4   613.900000  \n",
              "13  244.400000   1350.7  1044.500000  \n",
              "14  487.900000   1753.6   696.000000  \n",
              "15  412.400000   1605.1   583.300000  \n",
              "16  751.400000   1670.4   768.900000  \n",
              "17  319.400000   1219.5   785.000000  \n",
              "18  253.500000   1814.1   745.900000  \n",
              "19  388.700000   1681.0   520.400000  \n",
              "20  628.400000   1751.0   895.200000  \n",
              "21  155.901753   2188.0   399.900000  \n",
              "22  295.700000   1296.6   154.100487  \n",
              "23  341.200000   1385.7   717.000000  \n",
              "24  198.900000   1808.3  1152.900000  "
            ],
            "text/html": [
              "\n",
              "  <div id=\"df-d78d8068-ce2e-44b1-b295-bf75bc0a4f5b\">\n",
              "    <div class=\"colab-df-container\">\n",
              "      <div>\n",
              "<style scoped>\n",
              "    .dataframe tbody tr th:only-of-type {\n",
              "        vertical-align: middle;\n",
              "    }\n",
              "\n",
              "    .dataframe tbody tr th {\n",
              "        vertical-align: top;\n",
              "    }\n",
              "\n",
              "    .dataframe thead th {\n",
              "        text-align: right;\n",
              "    }\n",
              "</style>\n",
              "<table border=\"1\" class=\"dataframe\">\n",
              "  <thead>\n",
              "    <tr style=\"text-align: right;\">\n",
              "      <th></th>\n",
              "      <th>SUBDIVISION</th>\n",
              "      <th>YEAR</th>\n",
              "      <th>JAN</th>\n",
              "      <th>FEB</th>\n",
              "      <th>MAR</th>\n",
              "      <th>APR</th>\n",
              "      <th>MAY</th>\n",
              "      <th>JUN</th>\n",
              "      <th>JUL</th>\n",
              "      <th>AUG</th>\n",
              "      <th>SEP</th>\n",
              "      <th>OCT</th>\n",
              "      <th>NOV</th>\n",
              "      <th>DEC</th>\n",
              "      <th>ANNUAL</th>\n",
              "      <th>Jan-Feb</th>\n",
              "      <th>Mar-May</th>\n",
              "      <th>Jun-Sep</th>\n",
              "      <th>Oct-Dec</th>\n",
              "    </tr>\n",
              "  </thead>\n",
              "  <tbody>\n",
              "    <tr>\n",
              "      <th>0</th>\n",
              "      <td>ANDAMAN &amp; NICOBAR ISLANDS</td>\n",
              "      <td>1901</td>\n",
              "      <td>49.2</td>\n",
              "      <td>87.1</td>\n",
              "      <td>29.200000</td>\n",
              "      <td>2.3</td>\n",
              "      <td>528.8</td>\n",
              "      <td>517.5</td>\n",
              "      <td>365.1</td>\n",
              "      <td>481.1</td>\n",
              "      <td>332.6</td>\n",
              "      <td>388.5</td>\n",
              "      <td>558.2</td>\n",
              "      <td>33.60000</td>\n",
              "      <td>3373.2000</td>\n",
              "      <td>136.3</td>\n",
              "      <td>560.300000</td>\n",
              "      <td>1696.3</td>\n",
              "      <td>980.300000</td>\n",
              "    </tr>\n",
              "    <tr>\n",
              "      <th>1</th>\n",
              "      <td>ANDAMAN &amp; NICOBAR ISLANDS</td>\n",
              "      <td>1902</td>\n",
              "      <td>0.0</td>\n",
              "      <td>159.8</td>\n",
              "      <td>12.200000</td>\n",
              "      <td>0.0</td>\n",
              "      <td>446.1</td>\n",
              "      <td>537.1</td>\n",
              "      <td>228.9</td>\n",
              "      <td>753.7</td>\n",
              "      <td>666.2</td>\n",
              "      <td>197.2</td>\n",
              "      <td>359.0</td>\n",
              "      <td>160.50000</td>\n",
              "      <td>3520.7000</td>\n",
              "      <td>159.8</td>\n",
              "      <td>458.300000</td>\n",
              "      <td>2185.9</td>\n",
              "      <td>716.700000</td>\n",
              "    </tr>\n",
              "    <tr>\n",
              "      <th>2</th>\n",
              "      <td>ANDAMAN &amp; NICOBAR ISLANDS</td>\n",
              "      <td>1903</td>\n",
              "      <td>12.7</td>\n",
              "      <td>144.0</td>\n",
              "      <td>0.000000</td>\n",
              "      <td>1.0</td>\n",
              "      <td>235.1</td>\n",
              "      <td>479.9</td>\n",
              "      <td>728.4</td>\n",
              "      <td>326.7</td>\n",
              "      <td>339.0</td>\n",
              "      <td>181.2</td>\n",
              "      <td>284.4</td>\n",
              "      <td>225.00000</td>\n",
              "      <td>2957.4000</td>\n",
              "      <td>156.7</td>\n",
              "      <td>236.100000</td>\n",
              "      <td>1874.0</td>\n",
              "      <td>690.600000</td>\n",
              "    </tr>\n",
              "    <tr>\n",
              "      <th>3</th>\n",
              "      <td>ANDAMAN &amp; NICOBAR ISLANDS</td>\n",
              "      <td>1904</td>\n",
              "      <td>9.4</td>\n",
              "      <td>14.7</td>\n",
              "      <td>0.000000</td>\n",
              "      <td>202.4</td>\n",
              "      <td>304.5</td>\n",
              "      <td>495.1</td>\n",
              "      <td>502.0</td>\n",
              "      <td>160.1</td>\n",
              "      <td>820.4</td>\n",
              "      <td>222.2</td>\n",
              "      <td>308.7</td>\n",
              "      <td>40.10000</td>\n",
              "      <td>3079.6000</td>\n",
              "      <td>24.1</td>\n",
              "      <td>506.900000</td>\n",
              "      <td>1977.6</td>\n",
              "      <td>571.000000</td>\n",
              "    </tr>\n",
              "    <tr>\n",
              "      <th>4</th>\n",
              "      <td>ANDAMAN &amp; NICOBAR ISLANDS</td>\n",
              "      <td>1905</td>\n",
              "      <td>1.3</td>\n",
              "      <td>0.0</td>\n",
              "      <td>3.300000</td>\n",
              "      <td>26.9</td>\n",
              "      <td>279.5</td>\n",
              "      <td>628.7</td>\n",
              "      <td>368.7</td>\n",
              "      <td>330.5</td>\n",
              "      <td>297.0</td>\n",
              "      <td>260.7</td>\n",
              "      <td>25.4</td>\n",
              "      <td>344.70000</td>\n",
              "      <td>2566.7000</td>\n",
              "      <td>1.3</td>\n",
              "      <td>309.700000</td>\n",
              "      <td>1624.9</td>\n",
              "      <td>630.800000</td>\n",
              "    </tr>\n",
              "    <tr>\n",
              "      <th>5</th>\n",
              "      <td>ANDAMAN &amp; NICOBAR ISLANDS</td>\n",
              "      <td>1906</td>\n",
              "      <td>36.6</td>\n",
              "      <td>0.0</td>\n",
              "      <td>0.000000</td>\n",
              "      <td>0.0</td>\n",
              "      <td>556.1</td>\n",
              "      <td>733.3</td>\n",
              "      <td>247.7</td>\n",
              "      <td>320.5</td>\n",
              "      <td>164.3</td>\n",
              "      <td>267.8</td>\n",
              "      <td>128.9</td>\n",
              "      <td>79.20000</td>\n",
              "      <td>2534.4000</td>\n",
              "      <td>36.6</td>\n",
              "      <td>556.100000</td>\n",
              "      <td>1465.8</td>\n",
              "      <td>475.900000</td>\n",
              "    </tr>\n",
              "    <tr>\n",
              "      <th>6</th>\n",
              "      <td>ANDAMAN &amp; NICOBAR ISLANDS</td>\n",
              "      <td>1907</td>\n",
              "      <td>110.7</td>\n",
              "      <td>0.0</td>\n",
              "      <td>113.300000</td>\n",
              "      <td>21.6</td>\n",
              "      <td>616.3</td>\n",
              "      <td>305.2</td>\n",
              "      <td>443.9</td>\n",
              "      <td>377.6</td>\n",
              "      <td>200.4</td>\n",
              "      <td>264.4</td>\n",
              "      <td>648.9</td>\n",
              "      <td>245.60000</td>\n",
              "      <td>3347.9000</td>\n",
              "      <td>110.7</td>\n",
              "      <td>751.200000</td>\n",
              "      <td>1327.1</td>\n",
              "      <td>1158.900000</td>\n",
              "    </tr>\n",
              "    <tr>\n",
              "      <th>7</th>\n",
              "      <td>ANDAMAN &amp; NICOBAR ISLANDS</td>\n",
              "      <td>1908</td>\n",
              "      <td>20.9</td>\n",
              "      <td>85.1</td>\n",
              "      <td>0.000000</td>\n",
              "      <td>29.0</td>\n",
              "      <td>562.0</td>\n",
              "      <td>693.6</td>\n",
              "      <td>481.4</td>\n",
              "      <td>699.9</td>\n",
              "      <td>428.8</td>\n",
              "      <td>170.7</td>\n",
              "      <td>208.1</td>\n",
              "      <td>196.90000</td>\n",
              "      <td>3576.4000</td>\n",
              "      <td>106.0</td>\n",
              "      <td>591.000000</td>\n",
              "      <td>2303.7</td>\n",
              "      <td>575.700000</td>\n",
              "    </tr>\n",
              "    <tr>\n",
              "      <th>8</th>\n",
              "      <td>ANDAMAN &amp; NICOBAR ISLANDS</td>\n",
              "      <td>1910</td>\n",
              "      <td>26.6</td>\n",
              "      <td>22.7</td>\n",
              "      <td>206.300000</td>\n",
              "      <td>89.3</td>\n",
              "      <td>224.5</td>\n",
              "      <td>472.7</td>\n",
              "      <td>264.3</td>\n",
              "      <td>337.4</td>\n",
              "      <td>626.6</td>\n",
              "      <td>208.2</td>\n",
              "      <td>267.3</td>\n",
              "      <td>153.50000</td>\n",
              "      <td>2899.4000</td>\n",
              "      <td>49.3</td>\n",
              "      <td>520.100000</td>\n",
              "      <td>1701.0</td>\n",
              "      <td>629.000000</td>\n",
              "    </tr>\n",
              "    <tr>\n",
              "      <th>9</th>\n",
              "      <td>ANDAMAN &amp; NICOBAR ISLANDS</td>\n",
              "      <td>1911</td>\n",
              "      <td>0.0</td>\n",
              "      <td>8.4</td>\n",
              "      <td>0.000000</td>\n",
              "      <td>122.5</td>\n",
              "      <td>327.3</td>\n",
              "      <td>649.0</td>\n",
              "      <td>253.0</td>\n",
              "      <td>187.1</td>\n",
              "      <td>464.5</td>\n",
              "      <td>333.8</td>\n",
              "      <td>94.5</td>\n",
              "      <td>247.10000</td>\n",
              "      <td>2687.2000</td>\n",
              "      <td>8.4</td>\n",
              "      <td>449.800000</td>\n",
              "      <td>1553.6</td>\n",
              "      <td>675.400000</td>\n",
              "    </tr>\n",
              "    <tr>\n",
              "      <th>10</th>\n",
              "      <td>ANDAMAN &amp; NICOBAR ISLANDS</td>\n",
              "      <td>1912</td>\n",
              "      <td>583.7</td>\n",
              "      <td>0.8</td>\n",
              "      <td>0.000000</td>\n",
              "      <td>21.9</td>\n",
              "      <td>140.7</td>\n",
              "      <td>549.8</td>\n",
              "      <td>468.9</td>\n",
              "      <td>370.3</td>\n",
              "      <td>386.2</td>\n",
              "      <td>318.7</td>\n",
              "      <td>117.2</td>\n",
              "      <td>2.30000</td>\n",
              "      <td>2960.5000</td>\n",
              "      <td>584.5</td>\n",
              "      <td>162.600000</td>\n",
              "      <td>1775.2</td>\n",
              "      <td>438.200000</td>\n",
              "    </tr>\n",
              "    <tr>\n",
              "      <th>11</th>\n",
              "      <td>ANDAMAN &amp; NICOBAR ISLANDS</td>\n",
              "      <td>1913</td>\n",
              "      <td>84.8</td>\n",
              "      <td>0.5</td>\n",
              "      <td>1.300000</td>\n",
              "      <td>2.5</td>\n",
              "      <td>190.7</td>\n",
              "      <td>530.0</td>\n",
              "      <td>280.8</td>\n",
              "      <td>205.8</td>\n",
              "      <td>580.1</td>\n",
              "      <td>288.8</td>\n",
              "      <td>133.0</td>\n",
              "      <td>67.50000</td>\n",
              "      <td>2365.8000</td>\n",
              "      <td>85.3</td>\n",
              "      <td>194.500000</td>\n",
              "      <td>1596.7</td>\n",
              "      <td>489.300000</td>\n",
              "    </tr>\n",
              "    <tr>\n",
              "      <th>12</th>\n",
              "      <td>ANDAMAN &amp; NICOBAR ISLANDS</td>\n",
              "      <td>1914</td>\n",
              "      <td>0.0</td>\n",
              "      <td>0.0</td>\n",
              "      <td>0.000000</td>\n",
              "      <td>37.7</td>\n",
              "      <td>298.8</td>\n",
              "      <td>383.3</td>\n",
              "      <td>792.8</td>\n",
              "      <td>520.5</td>\n",
              "      <td>310.8</td>\n",
              "      <td>139.8</td>\n",
              "      <td>184.4</td>\n",
              "      <td>289.70000</td>\n",
              "      <td>2957.8000</td>\n",
              "      <td>0.0</td>\n",
              "      <td>336.500000</td>\n",
              "      <td>2007.4</td>\n",
              "      <td>613.900000</td>\n",
              "    </tr>\n",
              "    <tr>\n",
              "      <th>13</th>\n",
              "      <td>ANDAMAN &amp; NICOBAR ISLANDS</td>\n",
              "      <td>1915</td>\n",
              "      <td>45.0</td>\n",
              "      <td>56.7</td>\n",
              "      <td>33.300000</td>\n",
              "      <td>40.9</td>\n",
              "      <td>170.2</td>\n",
              "      <td>334.7</td>\n",
              "      <td>269.0</td>\n",
              "      <td>317.2</td>\n",
              "      <td>429.8</td>\n",
              "      <td>468.1</td>\n",
              "      <td>258.4</td>\n",
              "      <td>318.00000</td>\n",
              "      <td>2741.3000</td>\n",
              "      <td>101.7</td>\n",
              "      <td>244.400000</td>\n",
              "      <td>1350.7</td>\n",
              "      <td>1044.500000</td>\n",
              "    </tr>\n",
              "    <tr>\n",
              "      <th>14</th>\n",
              "      <td>ANDAMAN &amp; NICOBAR ISLANDS</td>\n",
              "      <td>1916</td>\n",
              "      <td>0.0</td>\n",
              "      <td>0.0</td>\n",
              "      <td>0.000000</td>\n",
              "      <td>0.5</td>\n",
              "      <td>487.4</td>\n",
              "      <td>450.1</td>\n",
              "      <td>317.3</td>\n",
              "      <td>425.0</td>\n",
              "      <td>561.2</td>\n",
              "      <td>369.7</td>\n",
              "      <td>192.6</td>\n",
              "      <td>133.70000</td>\n",
              "      <td>2937.5000</td>\n",
              "      <td>0.0</td>\n",
              "      <td>487.900000</td>\n",
              "      <td>1753.6</td>\n",
              "      <td>696.000000</td>\n",
              "    </tr>\n",
              "    <tr>\n",
              "      <th>15</th>\n",
              "      <td>ANDAMAN &amp; NICOBAR ISLANDS</td>\n",
              "      <td>1917</td>\n",
              "      <td>8.0</td>\n",
              "      <td>3.6</td>\n",
              "      <td>112.000000</td>\n",
              "      <td>4.5</td>\n",
              "      <td>295.9</td>\n",
              "      <td>301.1</td>\n",
              "      <td>394.8</td>\n",
              "      <td>437.4</td>\n",
              "      <td>471.8</td>\n",
              "      <td>238.1</td>\n",
              "      <td>108.3</td>\n",
              "      <td>236.90000</td>\n",
              "      <td>2612.4000</td>\n",
              "      <td>11.6</td>\n",
              "      <td>412.400000</td>\n",
              "      <td>1605.1</td>\n",
              "      <td>583.300000</td>\n",
              "    </tr>\n",
              "    <tr>\n",
              "      <th>16</th>\n",
              "      <td>ANDAMAN &amp; NICOBAR ISLANDS</td>\n",
              "      <td>1918</td>\n",
              "      <td>77.4</td>\n",
              "      <td>6.9</td>\n",
              "      <td>11.400000</td>\n",
              "      <td>10.7</td>\n",
              "      <td>729.3</td>\n",
              "      <td>710.8</td>\n",
              "      <td>200.9</td>\n",
              "      <td>455.4</td>\n",
              "      <td>303.3</td>\n",
              "      <td>227.0</td>\n",
              "      <td>366.9</td>\n",
              "      <td>175.00000</td>\n",
              "      <td>3275.0000</td>\n",
              "      <td>84.3</td>\n",
              "      <td>751.400000</td>\n",
              "      <td>1670.4</td>\n",
              "      <td>768.900000</td>\n",
              "    </tr>\n",
              "    <tr>\n",
              "      <th>17</th>\n",
              "      <td>ANDAMAN &amp; NICOBAR ISLANDS</td>\n",
              "      <td>1919</td>\n",
              "      <td>10.2</td>\n",
              "      <td>18.0</td>\n",
              "      <td>0.000000</td>\n",
              "      <td>35.5</td>\n",
              "      <td>283.9</td>\n",
              "      <td>542.5</td>\n",
              "      <td>246.5</td>\n",
              "      <td>259.8</td>\n",
              "      <td>170.7</td>\n",
              "      <td>186.2</td>\n",
              "      <td>340.4</td>\n",
              "      <td>258.40000</td>\n",
              "      <td>2352.1000</td>\n",
              "      <td>28.2</td>\n",
              "      <td>319.400000</td>\n",
              "      <td>1219.5</td>\n",
              "      <td>785.000000</td>\n",
              "    </tr>\n",
              "    <tr>\n",
              "      <th>18</th>\n",
              "      <td>ANDAMAN &amp; NICOBAR ISLANDS</td>\n",
              "      <td>1920</td>\n",
              "      <td>122.3</td>\n",
              "      <td>7.4</td>\n",
              "      <td>3.100000</td>\n",
              "      <td>13.0</td>\n",
              "      <td>237.4</td>\n",
              "      <td>546.9</td>\n",
              "      <td>294.4</td>\n",
              "      <td>467.4</td>\n",
              "      <td>505.4</td>\n",
              "      <td>397.5</td>\n",
              "      <td>262.9</td>\n",
              "      <td>85.50000</td>\n",
              "      <td>2943.2000</td>\n",
              "      <td>129.7</td>\n",
              "      <td>253.500000</td>\n",
              "      <td>1814.1</td>\n",
              "      <td>745.900000</td>\n",
              "    </tr>\n",
              "    <tr>\n",
              "      <th>19</th>\n",
              "      <td>ANDAMAN &amp; NICOBAR ISLANDS</td>\n",
              "      <td>1921</td>\n",
              "      <td>13.2</td>\n",
              "      <td>3.1</td>\n",
              "      <td>0.000000</td>\n",
              "      <td>37.5</td>\n",
              "      <td>351.2</td>\n",
              "      <td>282.7</td>\n",
              "      <td>487.1</td>\n",
              "      <td>330.0</td>\n",
              "      <td>581.2</td>\n",
              "      <td>360.7</td>\n",
              "      <td>118.2</td>\n",
              "      <td>41.50000</td>\n",
              "      <td>2606.4000</td>\n",
              "      <td>16.3</td>\n",
              "      <td>388.700000</td>\n",
              "      <td>1681.0</td>\n",
              "      <td>520.400000</td>\n",
              "    </tr>\n",
              "    <tr>\n",
              "      <th>20</th>\n",
              "      <td>ANDAMAN &amp; NICOBAR ISLANDS</td>\n",
              "      <td>1922</td>\n",
              "      <td>245.3</td>\n",
              "      <td>34.3</td>\n",
              "      <td>15.600000</td>\n",
              "      <td>323.1</td>\n",
              "      <td>289.7</td>\n",
              "      <td>506.1</td>\n",
              "      <td>425.8</td>\n",
              "      <td>307.4</td>\n",
              "      <td>511.7</td>\n",
              "      <td>162.0</td>\n",
              "      <td>541.0</td>\n",
              "      <td>192.20000</td>\n",
              "      <td>3554.2000</td>\n",
              "      <td>279.6</td>\n",
              "      <td>628.400000</td>\n",
              "      <td>1751.0</td>\n",
              "      <td>895.200000</td>\n",
              "    </tr>\n",
              "    <tr>\n",
              "      <th>21</th>\n",
              "      <td>ANDAMAN &amp; NICOBAR ISLANDS</td>\n",
              "      <td>1923</td>\n",
              "      <td>79.5</td>\n",
              "      <td>0.0</td>\n",
              "      <td>27.359197</td>\n",
              "      <td>91.3</td>\n",
              "      <td>293.5</td>\n",
              "      <td>808.4</td>\n",
              "      <td>636.9</td>\n",
              "      <td>182.2</td>\n",
              "      <td>560.5</td>\n",
              "      <td>131.9</td>\n",
              "      <td>197.4</td>\n",
              "      <td>70.60000</td>\n",
              "      <td>1411.0089</td>\n",
              "      <td>79.5</td>\n",
              "      <td>155.901753</td>\n",
              "      <td>2188.0</td>\n",
              "      <td>399.900000</td>\n",
              "    </tr>\n",
              "    <tr>\n",
              "      <th>22</th>\n",
              "      <td>ANDAMAN &amp; NICOBAR ISLANDS</td>\n",
              "      <td>1924</td>\n",
              "      <td>28.7</td>\n",
              "      <td>0.0</td>\n",
              "      <td>14.800000</td>\n",
              "      <td>89.7</td>\n",
              "      <td>191.2</td>\n",
              "      <td>261.2</td>\n",
              "      <td>493.3</td>\n",
              "      <td>290.9</td>\n",
              "      <td>251.2</td>\n",
              "      <td>331.1</td>\n",
              "      <td>378.6</td>\n",
              "      <td>18.87058</td>\n",
              "      <td>1411.0089</td>\n",
              "      <td>28.7</td>\n",
              "      <td>295.700000</td>\n",
              "      <td>1296.6</td>\n",
              "      <td>154.100487</td>\n",
              "    </tr>\n",
              "    <tr>\n",
              "      <th>23</th>\n",
              "      <td>ANDAMAN &amp; NICOBAR ISLANDS</td>\n",
              "      <td>1925</td>\n",
              "      <td>36.6</td>\n",
              "      <td>0.0</td>\n",
              "      <td>8.600000</td>\n",
              "      <td>50.4</td>\n",
              "      <td>282.2</td>\n",
              "      <td>663.8</td>\n",
              "      <td>241.8</td>\n",
              "      <td>278.2</td>\n",
              "      <td>201.9</td>\n",
              "      <td>249.5</td>\n",
              "      <td>271.5</td>\n",
              "      <td>196.00000</td>\n",
              "      <td>2480.5000</td>\n",
              "      <td>36.6</td>\n",
              "      <td>341.200000</td>\n",
              "      <td>1385.7</td>\n",
              "      <td>717.000000</td>\n",
              "    </tr>\n",
              "    <tr>\n",
              "      <th>24</th>\n",
              "      <td>ANDAMAN &amp; NICOBAR ISLANDS</td>\n",
              "      <td>1926</td>\n",
              "      <td>122.1</td>\n",
              "      <td>0.0</td>\n",
              "      <td>0.000000</td>\n",
              "      <td>0.5</td>\n",
              "      <td>198.4</td>\n",
              "      <td>370.0</td>\n",
              "      <td>195.3</td>\n",
              "      <td>523.7</td>\n",
              "      <td>719.3</td>\n",
              "      <td>443.8</td>\n",
              "      <td>148.4</td>\n",
              "      <td>560.70000</td>\n",
              "      <td>3282.2000</td>\n",
              "      <td>122.1</td>\n",
              "      <td>198.900000</td>\n",
              "      <td>1808.3</td>\n",
              "      <td>1152.900000</td>\n",
              "    </tr>\n",
              "  </tbody>\n",
              "</table>\n",
              "</div>\n",
              "      <button class=\"colab-df-convert\" onclick=\"convertToInteractive('df-d78d8068-ce2e-44b1-b295-bf75bc0a4f5b')\"\n",
              "              title=\"Convert this dataframe to an interactive table.\"\n",
              "              style=\"display:none;\">\n",
              "        \n",
              "  <svg xmlns=\"http://www.w3.org/2000/svg\" height=\"24px\"viewBox=\"0 0 24 24\"\n",
              "       width=\"24px\">\n",
              "    <path d=\"M0 0h24v24H0V0z\" fill=\"none\"/>\n",
              "    <path d=\"M18.56 5.44l.94 2.06.94-2.06 2.06-.94-2.06-.94-.94-2.06-.94 2.06-2.06.94zm-11 1L8.5 8.5l.94-2.06 2.06-.94-2.06-.94L8.5 2.5l-.94 2.06-2.06.94zm10 10l.94 2.06.94-2.06 2.06-.94-2.06-.94-.94-2.06-.94 2.06-2.06.94z\"/><path d=\"M17.41 7.96l-1.37-1.37c-.4-.4-.92-.59-1.43-.59-.52 0-1.04.2-1.43.59L10.3 9.45l-7.72 7.72c-.78.78-.78 2.05 0 2.83L4 21.41c.39.39.9.59 1.41.59.51 0 1.02-.2 1.41-.59l7.78-7.78 2.81-2.81c.8-.78.8-2.07 0-2.86zM5.41 20L4 18.59l7.72-7.72 1.47 1.35L5.41 20z\"/>\n",
              "  </svg>\n",
              "      </button>\n",
              "      \n",
              "  <style>\n",
              "    .colab-df-container {\n",
              "      display:flex;\n",
              "      flex-wrap:wrap;\n",
              "      gap: 12px;\n",
              "    }\n",
              "\n",
              "    .colab-df-convert {\n",
              "      background-color: #E8F0FE;\n",
              "      border: none;\n",
              "      border-radius: 50%;\n",
              "      cursor: pointer;\n",
              "      display: none;\n",
              "      fill: #1967D2;\n",
              "      height: 32px;\n",
              "      padding: 0 0 0 0;\n",
              "      width: 32px;\n",
              "    }\n",
              "\n",
              "    .colab-df-convert:hover {\n",
              "      background-color: #E2EBFA;\n",
              "      box-shadow: 0px 1px 2px rgba(60, 64, 67, 0.3), 0px 1px 3px 1px rgba(60, 64, 67, 0.15);\n",
              "      fill: #174EA6;\n",
              "    }\n",
              "\n",
              "    [theme=dark] .colab-df-convert {\n",
              "      background-color: #3B4455;\n",
              "      fill: #D2E3FC;\n",
              "    }\n",
              "\n",
              "    [theme=dark] .colab-df-convert:hover {\n",
              "      background-color: #434B5C;\n",
              "      box-shadow: 0px 1px 3px 1px rgba(0, 0, 0, 0.15);\n",
              "      filter: drop-shadow(0px 1px 2px rgba(0, 0, 0, 0.3));\n",
              "      fill: #FFFFFF;\n",
              "    }\n",
              "  </style>\n",
              "\n",
              "      <script>\n",
              "        const buttonEl =\n",
              "          document.querySelector('#df-d78d8068-ce2e-44b1-b295-bf75bc0a4f5b button.colab-df-convert');\n",
              "        buttonEl.style.display =\n",
              "          google.colab.kernel.accessAllowed ? 'block' : 'none';\n",
              "\n",
              "        async function convertToInteractive(key) {\n",
              "          const element = document.querySelector('#df-d78d8068-ce2e-44b1-b295-bf75bc0a4f5b');\n",
              "          const dataTable =\n",
              "            await google.colab.kernel.invokeFunction('convertToInteractive',\n",
              "                                                     [key], {});\n",
              "          if (!dataTable) return;\n",
              "\n",
              "          const docLinkHtml = 'Like what you see? Visit the ' +\n",
              "            '<a target=\"_blank\" href=https://colab.research.google.com/notebooks/data_table.ipynb>data table notebook</a>'\n",
              "            + ' to learn more about interactive tables.';\n",
              "          element.innerHTML = '';\n",
              "          dataTable['output_type'] = 'display_data';\n",
              "          await google.colab.output.renderOutput(dataTable, element);\n",
              "          const docLink = document.createElement('div');\n",
              "          docLink.innerHTML = docLinkHtml;\n",
              "          element.appendChild(docLink);\n",
              "        }\n",
              "      </script>\n",
              "    </div>\n",
              "  </div>\n",
              "  "
            ]
          },
          "metadata": {},
          "execution_count": 13
        }
      ]
    },
    {
      "cell_type": "code",
      "source": [
        "df.isnull().any()"
      ],
      "metadata": {
        "colab": {
          "base_uri": "https://localhost:8080/"
        },
        "id": "N5RPOytFucA6",
        "outputId": "9bfff236-7908-4f8c-f49d-0fdf640427d4"
      },
      "execution_count": null,
      "outputs": [
        {
          "output_type": "execute_result",
          "data": {
            "text/plain": [
              "SUBDIVISION    False\n",
              "YEAR           False\n",
              "JAN            False\n",
              "FEB            False\n",
              "MAR            False\n",
              "APR            False\n",
              "MAY            False\n",
              "JUN            False\n",
              "JUL            False\n",
              "AUG            False\n",
              "SEP            False\n",
              "OCT            False\n",
              "NOV            False\n",
              "DEC            False\n",
              "ANNUAL         False\n",
              "Jan-Feb        False\n",
              "Mar-May        False\n",
              "Jun-Sep        False\n",
              "Oct-Dec        False\n",
              "dtype: bool"
            ]
          },
          "metadata": {},
          "execution_count": 14
        }
      ]
    },
    {
      "cell_type": "code",
      "source": [
        "df.YEAR.unique()"
      ],
      "metadata": {
        "colab": {
          "base_uri": "https://localhost:8080/"
        },
        "id": "xYmQ81oJudUD",
        "outputId": "0c3edd9c-1efc-46cf-8523-1b7660f0168c"
      },
      "execution_count": null,
      "outputs": [
        {
          "output_type": "execute_result",
          "data": {
            "text/plain": [
              "array([1901, 1902, 1903, 1904, 1905, 1906, 1907, 1908, 1910, 1911, 1912,\n",
              "       1913, 1914, 1915, 1916, 1917, 1918, 1919, 1920, 1921, 1922, 1923,\n",
              "       1924, 1925, 1926, 1927, 1928, 1929, 1930, 1931, 1932, 1933, 1934,\n",
              "       1935, 1936, 1937, 1938, 1939, 1940, 1941, 1942, 1946, 1947, 1949,\n",
              "       1950, 1951, 1952, 1953, 1954, 1955, 1956, 1957, 1958, 1959, 1960,\n",
              "       1961, 1962, 1963, 1964, 1965, 1966, 1967, 1968, 1969, 1970, 1971,\n",
              "       1972, 1973, 1974, 1975, 1976, 1977, 1978, 1979, 1980, 1981, 1982,\n",
              "       1983, 1984, 1985, 1986, 1987, 1988, 1989, 1990, 1991, 1992, 1993,\n",
              "       1994, 1995, 1996, 1997, 1998, 1999, 2000, 2001, 2002, 2003, 2004,\n",
              "       2005, 2006, 2007, 2008, 2009, 2010, 2011, 2012, 2013, 2014, 2015,\n",
              "       1943, 1944, 1945, 1948, 1909])"
            ]
          },
          "metadata": {},
          "execution_count": 15
        }
      ]
    },
    {
      "cell_type": "code",
      "source": [
        "df.shape"
      ],
      "metadata": {
        "colab": {
          "base_uri": "https://localhost:8080/"
        },
        "id": "X-rJRo4Lui1a",
        "outputId": "61d55bca-d9a1-401c-fe0e-f6118a3012da"
      },
      "execution_count": null,
      "outputs": [
        {
          "output_type": "execute_result",
          "data": {
            "text/plain": [
              "(4116, 19)"
            ]
          },
          "metadata": {},
          "execution_count": 16
        }
      ]
    },
    {
      "cell_type": "code",
      "source": [
        "vidharbhaRainfall= df.loc[((df['SUBDIVISION'] == 'VIDARBHA'))]\n",
        "vidharbhaRainfall.head(5)"
      ],
      "metadata": {
        "colab": {
          "base_uri": "https://localhost:8080/",
          "height": 287
        },
        "id": "qd4PAMjAulWt",
        "outputId": "4e98426d-0a45-4c44-99ec-135ca5627008"
      },
      "execution_count": null,
      "outputs": [
        {
          "output_type": "execute_result",
          "data": {
            "text/plain": [
              "     SUBDIVISION  YEAR   JAN   FEB   MAR   APR   MAY    JUN    JUL    AUG  \\\n",
              "2852    VIDARBHA  1901  36.8  39.9  30.9  26.1   7.3  129.7  295.3  368.8   \n",
              "2853    VIDARBHA  1902   1.6   0.1   0.0   6.5   4.1   38.0  270.7  204.7   \n",
              "2854    VIDARBHA  1903   5.2   4.0   0.1   2.5  37.8  121.2  475.5  325.5   \n",
              "2855    VIDARBHA  1904   4.3   2.4  12.9   0.2  14.8  148.9  158.3  151.8   \n",
              "2856    VIDARBHA  1905   7.3  12.7  12.4  16.2  14.0   81.0  254.5  216.3   \n",
              "\n",
              "        SEP    OCT   NOV   DEC  ANNUAL  Jan-Feb  Mar-May  Jun-Sep  Oct-Dec  \n",
              "2852  123.4   35.2   0.0   0.0  1093.3     76.6     64.3    917.2     35.2  \n",
              "2853  150.9   29.6  16.1  26.7   748.9      1.7     10.6    664.3     72.4  \n",
              "2854  154.8  100.8   2.0   0.0  1229.4      9.3     40.3   1077.0    102.8  \n",
              "2855  196.9   61.7   0.0   0.9   753.2      6.7     27.9    655.9     62.7  \n",
              "2856  321.3    6.0   0.2   0.0   941.8     20.0     42.6    873.1      6.2  "
            ],
            "text/html": [
              "\n",
              "  <div id=\"df-7c4d9a05-bf8d-421b-8b29-79fea4821087\">\n",
              "    <div class=\"colab-df-container\">\n",
              "      <div>\n",
              "<style scoped>\n",
              "    .dataframe tbody tr th:only-of-type {\n",
              "        vertical-align: middle;\n",
              "    }\n",
              "\n",
              "    .dataframe tbody tr th {\n",
              "        vertical-align: top;\n",
              "    }\n",
              "\n",
              "    .dataframe thead th {\n",
              "        text-align: right;\n",
              "    }\n",
              "</style>\n",
              "<table border=\"1\" class=\"dataframe\">\n",
              "  <thead>\n",
              "    <tr style=\"text-align: right;\">\n",
              "      <th></th>\n",
              "      <th>SUBDIVISION</th>\n",
              "      <th>YEAR</th>\n",
              "      <th>JAN</th>\n",
              "      <th>FEB</th>\n",
              "      <th>MAR</th>\n",
              "      <th>APR</th>\n",
              "      <th>MAY</th>\n",
              "      <th>JUN</th>\n",
              "      <th>JUL</th>\n",
              "      <th>AUG</th>\n",
              "      <th>SEP</th>\n",
              "      <th>OCT</th>\n",
              "      <th>NOV</th>\n",
              "      <th>DEC</th>\n",
              "      <th>ANNUAL</th>\n",
              "      <th>Jan-Feb</th>\n",
              "      <th>Mar-May</th>\n",
              "      <th>Jun-Sep</th>\n",
              "      <th>Oct-Dec</th>\n",
              "    </tr>\n",
              "  </thead>\n",
              "  <tbody>\n",
              "    <tr>\n",
              "      <th>2852</th>\n",
              "      <td>VIDARBHA</td>\n",
              "      <td>1901</td>\n",
              "      <td>36.8</td>\n",
              "      <td>39.9</td>\n",
              "      <td>30.9</td>\n",
              "      <td>26.1</td>\n",
              "      <td>7.3</td>\n",
              "      <td>129.7</td>\n",
              "      <td>295.3</td>\n",
              "      <td>368.8</td>\n",
              "      <td>123.4</td>\n",
              "      <td>35.2</td>\n",
              "      <td>0.0</td>\n",
              "      <td>0.0</td>\n",
              "      <td>1093.3</td>\n",
              "      <td>76.6</td>\n",
              "      <td>64.3</td>\n",
              "      <td>917.2</td>\n",
              "      <td>35.2</td>\n",
              "    </tr>\n",
              "    <tr>\n",
              "      <th>2853</th>\n",
              "      <td>VIDARBHA</td>\n",
              "      <td>1902</td>\n",
              "      <td>1.6</td>\n",
              "      <td>0.1</td>\n",
              "      <td>0.0</td>\n",
              "      <td>6.5</td>\n",
              "      <td>4.1</td>\n",
              "      <td>38.0</td>\n",
              "      <td>270.7</td>\n",
              "      <td>204.7</td>\n",
              "      <td>150.9</td>\n",
              "      <td>29.6</td>\n",
              "      <td>16.1</td>\n",
              "      <td>26.7</td>\n",
              "      <td>748.9</td>\n",
              "      <td>1.7</td>\n",
              "      <td>10.6</td>\n",
              "      <td>664.3</td>\n",
              "      <td>72.4</td>\n",
              "    </tr>\n",
              "    <tr>\n",
              "      <th>2854</th>\n",
              "      <td>VIDARBHA</td>\n",
              "      <td>1903</td>\n",
              "      <td>5.2</td>\n",
              "      <td>4.0</td>\n",
              "      <td>0.1</td>\n",
              "      <td>2.5</td>\n",
              "      <td>37.8</td>\n",
              "      <td>121.2</td>\n",
              "      <td>475.5</td>\n",
              "      <td>325.5</td>\n",
              "      <td>154.8</td>\n",
              "      <td>100.8</td>\n",
              "      <td>2.0</td>\n",
              "      <td>0.0</td>\n",
              "      <td>1229.4</td>\n",
              "      <td>9.3</td>\n",
              "      <td>40.3</td>\n",
              "      <td>1077.0</td>\n",
              "      <td>102.8</td>\n",
              "    </tr>\n",
              "    <tr>\n",
              "      <th>2855</th>\n",
              "      <td>VIDARBHA</td>\n",
              "      <td>1904</td>\n",
              "      <td>4.3</td>\n",
              "      <td>2.4</td>\n",
              "      <td>12.9</td>\n",
              "      <td>0.2</td>\n",
              "      <td>14.8</td>\n",
              "      <td>148.9</td>\n",
              "      <td>158.3</td>\n",
              "      <td>151.8</td>\n",
              "      <td>196.9</td>\n",
              "      <td>61.7</td>\n",
              "      <td>0.0</td>\n",
              "      <td>0.9</td>\n",
              "      <td>753.2</td>\n",
              "      <td>6.7</td>\n",
              "      <td>27.9</td>\n",
              "      <td>655.9</td>\n",
              "      <td>62.7</td>\n",
              "    </tr>\n",
              "    <tr>\n",
              "      <th>2856</th>\n",
              "      <td>VIDARBHA</td>\n",
              "      <td>1905</td>\n",
              "      <td>7.3</td>\n",
              "      <td>12.7</td>\n",
              "      <td>12.4</td>\n",
              "      <td>16.2</td>\n",
              "      <td>14.0</td>\n",
              "      <td>81.0</td>\n",
              "      <td>254.5</td>\n",
              "      <td>216.3</td>\n",
              "      <td>321.3</td>\n",
              "      <td>6.0</td>\n",
              "      <td>0.2</td>\n",
              "      <td>0.0</td>\n",
              "      <td>941.8</td>\n",
              "      <td>20.0</td>\n",
              "      <td>42.6</td>\n",
              "      <td>873.1</td>\n",
              "      <td>6.2</td>\n",
              "    </tr>\n",
              "  </tbody>\n",
              "</table>\n",
              "</div>\n",
              "      <button class=\"colab-df-convert\" onclick=\"convertToInteractive('df-7c4d9a05-bf8d-421b-8b29-79fea4821087')\"\n",
              "              title=\"Convert this dataframe to an interactive table.\"\n",
              "              style=\"display:none;\">\n",
              "        \n",
              "  <svg xmlns=\"http://www.w3.org/2000/svg\" height=\"24px\"viewBox=\"0 0 24 24\"\n",
              "       width=\"24px\">\n",
              "    <path d=\"M0 0h24v24H0V0z\" fill=\"none\"/>\n",
              "    <path d=\"M18.56 5.44l.94 2.06.94-2.06 2.06-.94-2.06-.94-.94-2.06-.94 2.06-2.06.94zm-11 1L8.5 8.5l.94-2.06 2.06-.94-2.06-.94L8.5 2.5l-.94 2.06-2.06.94zm10 10l.94 2.06.94-2.06 2.06-.94-2.06-.94-.94-2.06-.94 2.06-2.06.94z\"/><path d=\"M17.41 7.96l-1.37-1.37c-.4-.4-.92-.59-1.43-.59-.52 0-1.04.2-1.43.59L10.3 9.45l-7.72 7.72c-.78.78-.78 2.05 0 2.83L4 21.41c.39.39.9.59 1.41.59.51 0 1.02-.2 1.41-.59l7.78-7.78 2.81-2.81c.8-.78.8-2.07 0-2.86zM5.41 20L4 18.59l7.72-7.72 1.47 1.35L5.41 20z\"/>\n",
              "  </svg>\n",
              "      </button>\n",
              "      \n",
              "  <style>\n",
              "    .colab-df-container {\n",
              "      display:flex;\n",
              "      flex-wrap:wrap;\n",
              "      gap: 12px;\n",
              "    }\n",
              "\n",
              "    .colab-df-convert {\n",
              "      background-color: #E8F0FE;\n",
              "      border: none;\n",
              "      border-radius: 50%;\n",
              "      cursor: pointer;\n",
              "      display: none;\n",
              "      fill: #1967D2;\n",
              "      height: 32px;\n",
              "      padding: 0 0 0 0;\n",
              "      width: 32px;\n",
              "    }\n",
              "\n",
              "    .colab-df-convert:hover {\n",
              "      background-color: #E2EBFA;\n",
              "      box-shadow: 0px 1px 2px rgba(60, 64, 67, 0.3), 0px 1px 3px 1px rgba(60, 64, 67, 0.15);\n",
              "      fill: #174EA6;\n",
              "    }\n",
              "\n",
              "    [theme=dark] .colab-df-convert {\n",
              "      background-color: #3B4455;\n",
              "      fill: #D2E3FC;\n",
              "    }\n",
              "\n",
              "    [theme=dark] .colab-df-convert:hover {\n",
              "      background-color: #434B5C;\n",
              "      box-shadow: 0px 1px 3px 1px rgba(0, 0, 0, 0.15);\n",
              "      filter: drop-shadow(0px 1px 2px rgba(0, 0, 0, 0.3));\n",
              "      fill: #FFFFFF;\n",
              "    }\n",
              "  </style>\n",
              "\n",
              "      <script>\n",
              "        const buttonEl =\n",
              "          document.querySelector('#df-7c4d9a05-bf8d-421b-8b29-79fea4821087 button.colab-df-convert');\n",
              "        buttonEl.style.display =\n",
              "          google.colab.kernel.accessAllowed ? 'block' : 'none';\n",
              "\n",
              "        async function convertToInteractive(key) {\n",
              "          const element = document.querySelector('#df-7c4d9a05-bf8d-421b-8b29-79fea4821087');\n",
              "          const dataTable =\n",
              "            await google.colab.kernel.invokeFunction('convertToInteractive',\n",
              "                                                     [key], {});\n",
              "          if (!dataTable) return;\n",
              "\n",
              "          const docLinkHtml = 'Like what you see? Visit the ' +\n",
              "            '<a target=\"_blank\" href=https://colab.research.google.com/notebooks/data_table.ipynb>data table notebook</a>'\n",
              "            + ' to learn more about interactive tables.';\n",
              "          element.innerHTML = '';\n",
              "          dataTable['output_type'] = 'display_data';\n",
              "          await google.colab.output.renderOutput(dataTable, element);\n",
              "          const docLink = document.createElement('div');\n",
              "          docLink.innerHTML = docLinkHtml;\n",
              "          element.appendChild(docLink);\n",
              "        }\n",
              "      </script>\n",
              "    </div>\n",
              "  </div>\n",
              "  "
            ]
          },
          "metadata": {},
          "execution_count": 17
        }
      ]
    },
    {
      "cell_type": "code",
      "source": [
        "X=vidharbhaRainfall.drop(['SUBDIVISION','JAN', 'FEB','MAR','APR','MAY','JUN','OCT','NOV','DEC','ANNUAL','Jan-Feb','Mar-May','Jun-Sep','Oct-Dec'], axis=1)"
      ],
      "metadata": {
        "id": "aQ6RvAowu66W"
      },
      "execution_count": null,
      "outputs": []
    },
    {
      "cell_type": "code",
      "source": [
        "y=vidharbhaRainfall['ANNUAL']"
      ],
      "metadata": {
        "id": "Pjm8vZ49u9B5"
      },
      "execution_count": null,
      "outputs": []
    },
    {
      "cell_type": "code",
      "source": [
        "X.head()"
      ],
      "metadata": {
        "colab": {
          "base_uri": "https://localhost:8080/",
          "height": 206
        },
        "id": "vu4Xmi2nI9V0",
        "outputId": "534d00c6-db5a-42f8-e35e-5339551e68e2"
      },
      "execution_count": null,
      "outputs": [
        {
          "output_type": "execute_result",
          "data": {
            "text/plain": [
              "      YEAR    JUL    AUG    SEP\n",
              "2852  1901  295.3  368.8  123.4\n",
              "2853  1902  270.7  204.7  150.9\n",
              "2854  1903  475.5  325.5  154.8\n",
              "2855  1904  158.3  151.8  196.9\n",
              "2856  1905  254.5  216.3  321.3"
            ],
            "text/html": [
              "\n",
              "  <div id=\"df-28ec7ae7-847b-429a-a86f-c10527dbb48d\">\n",
              "    <div class=\"colab-df-container\">\n",
              "      <div>\n",
              "<style scoped>\n",
              "    .dataframe tbody tr th:only-of-type {\n",
              "        vertical-align: middle;\n",
              "    }\n",
              "\n",
              "    .dataframe tbody tr th {\n",
              "        vertical-align: top;\n",
              "    }\n",
              "\n",
              "    .dataframe thead th {\n",
              "        text-align: right;\n",
              "    }\n",
              "</style>\n",
              "<table border=\"1\" class=\"dataframe\">\n",
              "  <thead>\n",
              "    <tr style=\"text-align: right;\">\n",
              "      <th></th>\n",
              "      <th>YEAR</th>\n",
              "      <th>JUL</th>\n",
              "      <th>AUG</th>\n",
              "      <th>SEP</th>\n",
              "    </tr>\n",
              "  </thead>\n",
              "  <tbody>\n",
              "    <tr>\n",
              "      <th>2852</th>\n",
              "      <td>1901</td>\n",
              "      <td>295.3</td>\n",
              "      <td>368.8</td>\n",
              "      <td>123.4</td>\n",
              "    </tr>\n",
              "    <tr>\n",
              "      <th>2853</th>\n",
              "      <td>1902</td>\n",
              "      <td>270.7</td>\n",
              "      <td>204.7</td>\n",
              "      <td>150.9</td>\n",
              "    </tr>\n",
              "    <tr>\n",
              "      <th>2854</th>\n",
              "      <td>1903</td>\n",
              "      <td>475.5</td>\n",
              "      <td>325.5</td>\n",
              "      <td>154.8</td>\n",
              "    </tr>\n",
              "    <tr>\n",
              "      <th>2855</th>\n",
              "      <td>1904</td>\n",
              "      <td>158.3</td>\n",
              "      <td>151.8</td>\n",
              "      <td>196.9</td>\n",
              "    </tr>\n",
              "    <tr>\n",
              "      <th>2856</th>\n",
              "      <td>1905</td>\n",
              "      <td>254.5</td>\n",
              "      <td>216.3</td>\n",
              "      <td>321.3</td>\n",
              "    </tr>\n",
              "  </tbody>\n",
              "</table>\n",
              "</div>\n",
              "      <button class=\"colab-df-convert\" onclick=\"convertToInteractive('df-28ec7ae7-847b-429a-a86f-c10527dbb48d')\"\n",
              "              title=\"Convert this dataframe to an interactive table.\"\n",
              "              style=\"display:none;\">\n",
              "        \n",
              "  <svg xmlns=\"http://www.w3.org/2000/svg\" height=\"24px\"viewBox=\"0 0 24 24\"\n",
              "       width=\"24px\">\n",
              "    <path d=\"M0 0h24v24H0V0z\" fill=\"none\"/>\n",
              "    <path d=\"M18.56 5.44l.94 2.06.94-2.06 2.06-.94-2.06-.94-.94-2.06-.94 2.06-2.06.94zm-11 1L8.5 8.5l.94-2.06 2.06-.94-2.06-.94L8.5 2.5l-.94 2.06-2.06.94zm10 10l.94 2.06.94-2.06 2.06-.94-2.06-.94-.94-2.06-.94 2.06-2.06.94z\"/><path d=\"M17.41 7.96l-1.37-1.37c-.4-.4-.92-.59-1.43-.59-.52 0-1.04.2-1.43.59L10.3 9.45l-7.72 7.72c-.78.78-.78 2.05 0 2.83L4 21.41c.39.39.9.59 1.41.59.51 0 1.02-.2 1.41-.59l7.78-7.78 2.81-2.81c.8-.78.8-2.07 0-2.86zM5.41 20L4 18.59l7.72-7.72 1.47 1.35L5.41 20z\"/>\n",
              "  </svg>\n",
              "      </button>\n",
              "      \n",
              "  <style>\n",
              "    .colab-df-container {\n",
              "      display:flex;\n",
              "      flex-wrap:wrap;\n",
              "      gap: 12px;\n",
              "    }\n",
              "\n",
              "    .colab-df-convert {\n",
              "      background-color: #E8F0FE;\n",
              "      border: none;\n",
              "      border-radius: 50%;\n",
              "      cursor: pointer;\n",
              "      display: none;\n",
              "      fill: #1967D2;\n",
              "      height: 32px;\n",
              "      padding: 0 0 0 0;\n",
              "      width: 32px;\n",
              "    }\n",
              "\n",
              "    .colab-df-convert:hover {\n",
              "      background-color: #E2EBFA;\n",
              "      box-shadow: 0px 1px 2px rgba(60, 64, 67, 0.3), 0px 1px 3px 1px rgba(60, 64, 67, 0.15);\n",
              "      fill: #174EA6;\n",
              "    }\n",
              "\n",
              "    [theme=dark] .colab-df-convert {\n",
              "      background-color: #3B4455;\n",
              "      fill: #D2E3FC;\n",
              "    }\n",
              "\n",
              "    [theme=dark] .colab-df-convert:hover {\n",
              "      background-color: #434B5C;\n",
              "      box-shadow: 0px 1px 3px 1px rgba(0, 0, 0, 0.15);\n",
              "      filter: drop-shadow(0px 1px 2px rgba(0, 0, 0, 0.3));\n",
              "      fill: #FFFFFF;\n",
              "    }\n",
              "  </style>\n",
              "\n",
              "      <script>\n",
              "        const buttonEl =\n",
              "          document.querySelector('#df-28ec7ae7-847b-429a-a86f-c10527dbb48d button.colab-df-convert');\n",
              "        buttonEl.style.display =\n",
              "          google.colab.kernel.accessAllowed ? 'block' : 'none';\n",
              "\n",
              "        async function convertToInteractive(key) {\n",
              "          const element = document.querySelector('#df-28ec7ae7-847b-429a-a86f-c10527dbb48d');\n",
              "          const dataTable =\n",
              "            await google.colab.kernel.invokeFunction('convertToInteractive',\n",
              "                                                     [key], {});\n",
              "          if (!dataTable) return;\n",
              "\n",
              "          const docLinkHtml = 'Like what you see? Visit the ' +\n",
              "            '<a target=\"_blank\" href=https://colab.research.google.com/notebooks/data_table.ipynb>data table notebook</a>'\n",
              "            + ' to learn more about interactive tables.';\n",
              "          element.innerHTML = '';\n",
              "          dataTable['output_type'] = 'display_data';\n",
              "          await google.colab.output.renderOutput(dataTable, element);\n",
              "          const docLink = document.createElement('div');\n",
              "          docLink.innerHTML = docLinkHtml;\n",
              "          element.appendChild(docLink);\n",
              "        }\n",
              "      </script>\n",
              "    </div>\n",
              "  </div>\n",
              "  "
            ]
          },
          "metadata": {},
          "execution_count": 20
        }
      ]
    },
    {
      "cell_type": "code",
      "source": [
        "from sklearn.model_selection import train_test_split"
      ],
      "metadata": {
        "id": "QP0ITjKgvAb0"
      },
      "execution_count": null,
      "outputs": []
    },
    {
      "cell_type": "code",
      "source": [
        "X_train, X_test, y_train, y_test = train_test_split(X, y, test_size=0.3, random_state=101)"
      ],
      "metadata": {
        "id": "HMflqZ4LvGKT"
      },
      "execution_count": null,
      "outputs": []
    },
    {
      "cell_type": "code",
      "source": [
        "sns.scatterplot(x=X_train['JUL'],y=y_train,data=df)"
      ],
      "metadata": {
        "colab": {
          "base_uri": "https://localhost:8080/",
          "height": 296
        },
        "id": "MOb6az9wV9p4",
        "outputId": "82fbc8ce-abb0-4718-9d87-d8e3717eaa84"
      },
      "execution_count": null,
      "outputs": [
        {
          "output_type": "execute_result",
          "data": {
            "text/plain": [
              "<matplotlib.axes._subplots.AxesSubplot at 0x7fe26bc9e430>"
            ]
          },
          "metadata": {},
          "execution_count": 23
        },
        {
          "output_type": "display_data",
          "data": {
            "text/plain": [
              "<Figure size 432x288 with 1 Axes>"
            ],
            "image/png": "[encoded data removed]"
          },
          "metadata": {
            "needs_background": "light"
          }
        }
      ]
    },
    {
      "cell_type": "code",
      "source": [
        "sns.scatterplot(x=X_train['AUG'],y=y_train,data=df)"
      ],
      "metadata": {
        "colab": {
          "base_uri": "https://localhost:8080/",
          "height": 296
        },
        "id": "CenKhjMgXbNU",
        "outputId": "2c9bab47-bf2a-40b8-838d-5e82d7ed2f6c"
      },
      "execution_count": null,
      "outputs": [
        {
          "output_type": "execute_result",
          "data": {
            "text/plain": [
              "<matplotlib.axes._subplots.AxesSubplot at 0x7fe26bbb9490>"
            ]
          },
          "metadata": {},
          "execution_count": 24
        },
        {
          "output_type": "display_data",
          "data": {
            "text/plain": [
              "<Figure size 432x288 with 1 Axes>"
            ],
            "image/png": "[encoded data removed]"
          },
          "metadata": {
            "needs_background": "light"
          }
        }
      ]
    },
    {
      "cell_type": "code",
      "source": [
        "sns.scatterplot(x=X_train['SEP'],y=y_train,data=df)"
      ],
      "metadata": {
        "colab": {
          "base_uri": "https://localhost:8080/",
          "height": 296
        },
        "id": "oMqzjT6LXfE2",
        "outputId": "7f4eba30-3240-465c-b306-c658f7bcc576"
      },
      "execution_count": null,
      "outputs": [
        {
          "output_type": "execute_result",
          "data": {
            "text/plain": [
              "<matplotlib.axes._subplots.AxesSubplot at 0x7fe26b6e5c10>"
            ]
          },
          "metadata": {},
          "execution_count": 25
        },
        {
          "output_type": "display_data",
          "data": {
            "text/plain": [
              "<Figure size 432x288 with 1 Axes>"
            ],
            "image/png": "[encoded data removed]"
          },
          "metadata": {
            "needs_background": "light"
          }
        }
      ]
    },
    {
      "cell_type": "code",
      "source": [
        "from sklearn.preprocessing import StandardScaler"
      ],
      "metadata": {
        "id": "fx2DcnQyvHMK"
      },
      "execution_count": null,
      "outputs": []
    },
    {
      "cell_type": "code",
      "source": [
        "scaler=StandardScaler()"
      ],
      "metadata": {
        "id": "bbdP7pG6vQRT"
      },
      "execution_count": null,
      "outputs": []
    },
    {
      "cell_type": "code",
      "source": [
        "scaled_X_train=scaler.fit_transform(X_train)"
      ],
      "metadata": {
        "id": "CaveVzx1vTEt"
      },
      "execution_count": null,
      "outputs": []
    },
    {
      "cell_type": "code",
      "source": [
        "scaled_X_test=scaler.transform(X_test)"
      ],
      "metadata": {
        "id": "zgetE8pSvUZy"
      },
      "execution_count": null,
      "outputs": []
    },
    {
      "cell_type": "code",
      "source": [
        "from sklearn.svm import SVR,LinearSVR"
      ],
      "metadata": {
        "id": "wfMFfzWPvbCy"
      },
      "execution_count": null,
      "outputs": []
    },
    {
      "cell_type": "code",
      "source": [
        "base_model=SVR()"
      ],
      "metadata": {
        "id": "sjv1bd81vdyq"
      },
      "execution_count": null,
      "outputs": []
    },
    {
      "cell_type": "code",
      "source": [
        "base_model.fit(scaled_X_train,y_train)"
      ],
      "metadata": {
        "colab": {
          "base_uri": "https://localhost:8080/"
        },
        "id": "EpvgMsUWvimO",
        "outputId": "4cd16db8-a7b6-4ae0-cb2b-d0e8d612c8fa"
      },
      "execution_count": null,
      "outputs": [
        {
          "output_type": "execute_result",
          "data": {
            "text/plain": [
              "SVR()"
            ]
          },
          "metadata": {},
          "execution_count": 32
        }
      ]
    },
    {
      "cell_type": "code",
      "source": [
        "base_preds=base_model.predict(scaled_X_test)  #predicts y test"
      ],
      "metadata": {
        "id": "zhSGai68vj1Z"
      },
      "execution_count": null,
      "outputs": []
    },
    {
      "cell_type": "code",
      "source": [
        "base_preds "
      ],
      "metadata": {
        "colab": {
          "base_uri": "https://localhost:8080/"
        },
        "id": "uyo1GKGrvrFP",
        "outputId": "fb7c9481-708e-478f-c902-0f919cd4d2e5"
      },
      "execution_count": null,
      "outputs": [
        {
          "output_type": "execute_result",
          "data": {
            "text/plain": [
              "array([1059.48954027, 1062.37135922, 1059.19036092, 1060.78322577,\n",
              "       1062.44125078, 1075.87838652, 1068.515494  , 1062.39369424,\n",
              "       1066.00483226, 1068.97417054, 1068.23090981, 1064.85430234,\n",
              "       1066.24903634, 1066.90273718, 1064.54821769, 1077.14004322,\n",
              "       1069.91000656, 1071.69115387, 1066.93869769, 1069.81735008,\n",
              "       1060.24600161, 1074.87330052, 1070.95471719, 1057.65750452,\n",
              "       1068.72853394, 1070.55549804, 1068.00838118, 1072.76736467,\n",
              "       1066.80732115, 1072.9219149 , 1063.99774594, 1071.92252028,\n",
              "       1065.0038392 , 1073.11450402, 1070.4788908 ])"
            ]
          },
          "metadata": {},
          "execution_count": 34
        }
      ]
    },
    {
      "cell_type": "code",
      "source": [
        "from sklearn.metrics import mean_absolute_error,mean_squared_error"
      ],
      "metadata": {
        "id": "gsLdnkeuvtr1"
      },
      "execution_count": null,
      "outputs": []
    },
    {
      "cell_type": "code",
      "source": [
        "mean_absolute_error(y_test,base_preds)"
      ],
      "metadata": {
        "colab": {
          "base_uri": "https://localhost:8080/"
        },
        "id": "6kQwwuWkv4Ge",
        "outputId": "a577c5cf-3410-4875-84b7-10580c9a5bbf"
      },
      "execution_count": null,
      "outputs": [
        {
          "output_type": "execute_result",
          "data": {
            "text/plain": [
              "150.84854518458383"
            ]
          },
          "metadata": {},
          "execution_count": 36
        }
      ]
    },
    {
      "cell_type": "code",
      "source": [
        "np.sqrt(mean_squared_error(y_test,base_preds))"
      ],
      "metadata": {
        "colab": {
          "base_uri": "https://localhost:8080/"
        },
        "id": "BDPDxVWFv7vo",
        "outputId": "d51851a5-1d51-444e-ca54-dca927eef6b5"
      },
      "execution_count": null,
      "outputs": [
        {
          "output_type": "execute_result",
          "data": {
            "text/plain": [
              "191.78531427749274"
            ]
          },
          "metadata": {},
          "execution_count": 37
        }
      ]
    },
    {
      "cell_type": "code",
      "source": [
        "y_test.mean()"
      ],
      "metadata": {
        "colab": {
          "base_uri": "https://localhost:8080/"
        },
        "id": "nXlX8L8VwFVy",
        "outputId": "c9462fd8-0cb1-41c0-ccbf-ed7bef094362"
      },
      "execution_count": null,
      "outputs": [
        {
          "output_type": "execute_result",
          "data": {
            "text/plain": [
              "1146.562857142857"
            ]
          },
          "metadata": {},
          "execution_count": 38
        }
      ]
    },
    {
      "cell_type": "code",
      "source": [
        "param_grid={'C':[0.001,0.01,0.1,0.5,1],\n",
        "            'kernel':['linear','rbf','poly'],\n",
        "            'gamma':['scale','auto'],\n",
        "            'degree':[2,3,4],\n",
        "            'epsilon':[0,0.01,0.1,0.5,1,2]}"
      ],
      "metadata": {
        "id": "SThdjk5ZwH-C"
      },
      "execution_count": null,
      "outputs": []
    },
    {
      "cell_type": "code",
      "source": [
        "from sklearn.model_selection import GridSearchCV"
      ],
      "metadata": {
        "id": "n2FK707owNxH"
      },
      "execution_count": null,
      "outputs": []
    },
    {
      "cell_type": "code",
      "source": [
        "svr=SVR()"
      ],
      "metadata": {
        "id": "kDhsPNnAwRwv"
      },
      "execution_count": null,
      "outputs": []
    },
    {
      "cell_type": "code",
      "source": [
        "grid=GridSearchCV(svr,param_grid)"
      ],
      "metadata": {
        "id": "Brh_ArNKwSlW"
      },
      "execution_count": null,
      "outputs": []
    },
    {
      "cell_type": "code",
      "source": [
        "grid.fit(scaled_X_train,y_train)"
      ],
      "metadata": {
        "colab": {
          "base_uri": "https://localhost:8080/"
        },
        "id": "btTAwmpXwZih",
        "outputId": "1c642708-859a-42a1-acd2-464297b1dc33"
      },
      "execution_count": null,
      "outputs": [
        {
          "output_type": "execute_result",
          "data": {
            "text/plain": [
              "GridSearchCV(estimator=SVR(),\n",
              "             param_grid={'C': [0.001, 0.01, 0.1, 0.5, 1], 'degree': [2, 3, 4],\n",
              "                         'epsilon': [0, 0.01, 0.1, 0.5, 1, 2],\n",
              "                         'gamma': ['scale', 'auto'],\n",
              "                         'kernel': ['linear', 'rbf', 'poly']})"
            ]
          },
          "metadata": {},
          "execution_count": 43
        }
      ]
    },
    {
      "cell_type": "code",
      "source": [
        "grid.best_params_"
      ],
      "metadata": {
        "colab": {
          "base_uri": "https://localhost:8080/"
        },
        "id": "JhHpc0WBwhiM",
        "outputId": "141a62c1-9a38-418c-9212-54eefc69bc72"
      },
      "execution_count": null,
      "outputs": [
        {
          "output_type": "execute_result",
          "data": {
            "text/plain": [
              "{'C': 1, 'degree': 2, 'epsilon': 0, 'gamma': 'scale', 'kernel': 'linear'}"
            ]
          },
          "metadata": {},
          "execution_count": 44
        }
      ]
    },
    {
      "cell_type": "code",
      "source": [
        "grid_preds=grid.predict(scaled_X_test)"
      ],
      "metadata": {
        "id": "4xAedbDiwlBS"
      },
      "execution_count": null,
      "outputs": []
    },
    {
      "cell_type": "code",
      "source": [
        "mean_absolute_error(y_test,grid_preds)"
      ],
      "metadata": {
        "colab": {
          "base_uri": "https://localhost:8080/"
        },
        "id": "1M7xOSWQwuPF",
        "outputId": "28cd05b1-b24c-450d-bc73-953d9ac7af1b"
      },
      "execution_count": null,
      "outputs": [
        {
          "output_type": "execute_result",
          "data": {
            "text/plain": [
              "119.99759350159675"
            ]
          },
          "metadata": {},
          "execution_count": 46
        }
      ]
    },
    {
      "cell_type": "code",
      "source": [
        "np.sqrt(mean_squared_error(y_test,grid_preds))"
      ],
      "metadata": {
        "colab": {
          "base_uri": "https://localhost:8080/"
        },
        "id": "72LB4Ttkwz5r",
        "outputId": "ee04b851-248a-4ccf-a844-d3d319b974c7"
      },
      "execution_count": null,
      "outputs": [
        {
          "output_type": "execute_result",
          "data": {
            "text/plain": [
              "154.30086333138377"
            ]
          },
          "metadata": {},
          "execution_count": 47
        }
      ]
    },
    {
      "cell_type": "code",
      "source": [
        "final_model=SVR(C=1,kernel=\"linear\") #svc = SVC(C=1, kernel=\"linear\")"
      ],
      "metadata": {
        "id": "wja2QsXvxFtP"
      },
      "execution_count": null,
      "outputs": []
    },
    {
      "cell_type": "code",
      "source": [
        "final_model.fit(X,y)"
      ],
      "metadata": {
        "colab": {
          "base_uri": "https://localhost:8080/"
        },
        "id": "zD6m35ESxLPU",
        "outputId": "fcdd8a50-be99-4ac9-9323-524dfbadfa6b"
      },
      "execution_count": null,
      "outputs": [
        {
          "output_type": "execute_result",
          "data": {
            "text/plain": [
              "SVR(C=1, kernel='linear')"
            ]
          },
          "metadata": {},
          "execution_count": 49
        }
      ]
    },
    {
      "cell_type": "code",
      "source": [
        "final_model.coef_"
      ],
      "metadata": {
        "colab": {
          "base_uri": "https://localhost:8080/"
        },
        "id": "M-RPJCqExPfh",
        "outputId": "caf87773-3582-4f38-b2e5-f27fb001875e"
      },
      "execution_count": null,
      "outputs": [
        {
          "output_type": "execute_result",
          "data": {
            "text/plain": [
              "array([[-0.24204918,  0.97440974,  1.11632488,  1.08422237]])"
            ]
          },
          "metadata": {},
          "execution_count": 50
        }
      ]
    },
    {
      "cell_type": "code",
      "source": [
        "from joblib import dump,load"
      ],
      "metadata": {
        "id": "qAJBtFa5yDaM"
      },
      "execution_count": null,
      "outputs": []
    },
    {
      "cell_type": "code",
      "source": [
        "dump(final_model,'final_rainfall_model.joblib')"
      ],
      "metadata": {
        "colab": {
          "base_uri": "https://localhost:8080/"
        },
        "id": "rLRvwXk9yJP6",
        "outputId": "d2efd233-b3a3-429f-8a2e-d75bdbc71630"
      },
      "execution_count": null,
      "outputs": [
        {
          "output_type": "execute_result",
          "data": {
            "text/plain": [
              "['final_rainfall_model.joblib']"
            ]
          },
          "metadata": {},
          "execution_count": 52
        }
      ]
    },
    {
      "cell_type": "code",
      "source": [
        "loaded_model=load('final_rainfall_model.joblib')"
      ],
      "metadata": {
        "id": "3hQtPpDNyMMc"
      },
      "execution_count": null,
      "outputs": []
    },
    {
      "cell_type": "code",
      "source": [
        "loaded_model.coef_"
      ],
      "metadata": {
        "colab": {
          "base_uri": "https://localhost:8080/"
        },
        "id": "VtcOuu1zyQXi",
        "outputId": "06469969-5324-49ec-e497-03feab15d815"
      },
      "execution_count": null,
      "outputs": [
        {
          "output_type": "execute_result",
          "data": {
            "text/plain": [
              "array([[-0.24204918,  0.97440974,  1.11632488,  1.08422237]])"
            ]
          },
          "metadata": {},
          "execution_count": 54
        }
      ]
    },
    {
      "cell_type": "code",
      "source": [
        "campaign=[[1992,241.3,565.5,116.1]]"
      ],
      "metadata": {
        "id": "3_wWs21UyXLc"
      },
      "execution_count": null,
      "outputs": []
    },
    {
      "cell_type": "code",
      "source": [
        "loaded_model.predict(campaign)"
      ],
      "metadata": {
        "colab": {
          "base_uri": "https://localhost:8080/"
        },
        "id": "7moesFmPyap8",
        "outputId": "1bcc945d-967a-4a1e-c794-d86d3a1faecb"
      },
      "execution_count": null,
      "outputs": [
        {
          "output_type": "stream",
          "name": "stderr",
          "text": [
            "/usr/local/lib/python3.8/dist-packages/sklearn/base.py:450: UserWarning: X does not have valid feature names, but SVR was fitted with feature names\n",
            "  warnings.warn(\n"
          ]
        },
        {
          "output_type": "execute_result",
          "data": {
            "text/plain": [
              "array([1244.86882894])"
            ]
          },
          "metadata": {},
          "execution_count": 56
        }
      ]
    },
    {
      "cell_type": "code",
      "source": [
        "campaign1=[[1984,258.6,271,48.7]]"
      ],
      "metadata": {
        "id": "nNTrxkbwzgcz"
      },
      "execution_count": null,
      "outputs": []
    },
    {
      "cell_type": "code",
      "source": [
        "loaded_model.predict(campaign1)"
      ],
      "metadata": {
        "colab": {
          "base_uri": "https://localhost:8080/"
        },
        "id": "DbOwNUHbziil",
        "outputId": "6d15518b-0e8a-4e15-efff-a0a175648e25"
      },
      "execution_count": null,
      "outputs": [
        {
          "output_type": "stream",
          "name": "stderr",
          "text": [
            "/usr/local/lib/python3.8/dist-packages/sklearn/base.py:450: UserWarning: X does not have valid feature names, but SVR was fitted with feature names\n",
            "  warnings.warn(\n"
          ]
        },
        {
          "output_type": "execute_result",
          "data": {
            "text/plain": [
              "array([861.82824483])"
            ]
          },
          "metadata": {},
          "execution_count": 58
        }
      ]
    },
    {
      "cell_type": "code",
      "source": [
        "campaign2=[[2020,241.3,565.5,116.1]]"
      ],
      "metadata": {
        "id": "zwcsX8egzyPT"
      },
      "execution_count": null,
      "outputs": []
    },
    {
      "cell_type": "code",
      "source": [
        "loaded_model.predict(campaign2)"
      ],
      "metadata": {
        "colab": {
          "base_uri": "https://localhost:8080/"
        },
        "id": "CxFwLih60ApA",
        "outputId": "31b20978-e278-4839-c63f-6b50bb2a41fe"
      },
      "execution_count": null,
      "outputs": [
        {
          "output_type": "stream",
          "name": "stderr",
          "text": [
            "/usr/local/lib/python3.8/dist-packages/sklearn/base.py:450: UserWarning: X does not have valid feature names, but SVR was fitted with feature names\n",
            "  warnings.warn(\n"
          ]
        },
        {
          "output_type": "execute_result",
          "data": {
            "text/plain": [
              "array([1238.09145197])"
            ]
          },
          "metadata": {},
          "execution_count": 60
        }
      ]
    }
  ]
}