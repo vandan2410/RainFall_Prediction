{
  "cells": [
    {
      "cell_type": "code",
      "execution_count": 2,
      "metadata": {
        "id": "D2_woncgU2-a"
      },
      "outputs": [],
      "source": [
        "import pandas as pd\n",
        "import numpy as np\n",
        "import matplotlib.pyplot as plt\n",
        "import seaborn as sns"
      ]
    },
    {
      "cell_type": "code",
      "execution_count": 3,
      "metadata": {
        "colab": {
          "base_uri": "https://localhost:8080/",
          "height": 354
        },
        "id": "op-AXYhCU8mX",
        "outputId": "9883d8d0-84c7-4b8a-c1c4-14cc43ec5826"
      },
      "outputs": [
        {
          "data": {
            "text/html": [
              "<div>\n",
              "<style scoped>\n",
              "    .dataframe tbody tr th:only-of-type {\n",
              "        vertical-align: middle;\n",
              "    }\n",
              "\n",
              "    .dataframe tbody tr th {\n",
              "        vertical-align: top;\n",
              "    }\n",
              "\n",
              "    .dataframe thead th {\n",
              "        text-align: right;\n",
              "    }\n",
              "</style>\n",
              "<table border=\"1\" class=\"dataframe\">\n",
              "  <thead>\n",
              "    <tr style=\"text-align: right;\">\n",
              "      <th></th>\n",
              "      <th>SUBDIVISION</th>\n",
              "      <th>YEAR</th>\n",
              "      <th>JAN</th>\n",
              "      <th>FEB</th>\n",
              "      <th>MAR</th>\n",
              "      <th>APR</th>\n",
              "      <th>MAY</th>\n",
              "      <th>JUN</th>\n",
              "      <th>JUL</th>\n",
              "      <th>AUG</th>\n",
              "      <th>SEP</th>\n",
              "      <th>OCT</th>\n",
              "      <th>NOV</th>\n",
              "      <th>DEC</th>\n",
              "      <th>ANNUAL</th>\n",
              "      <th>Jan-Feb</th>\n",
              "      <th>Mar-May</th>\n",
              "      <th>Jun-Sep</th>\n",
              "      <th>Oct-Dec</th>\n",
              "    </tr>\n",
              "  </thead>\n",
              "  <tbody>\n",
              "    <tr>\n",
              "      <th>0</th>\n",
              "      <td>ANDAMAN &amp; NICOBAR ISLANDS</td>\n",
              "      <td>1901</td>\n",
              "      <td>49.2</td>\n",
              "      <td>87.1</td>\n",
              "      <td>29.2</td>\n",
              "      <td>2.3</td>\n",
              "      <td>528.8</td>\n",
              "      <td>517.5</td>\n",
              "      <td>365.1</td>\n",
              "      <td>481.1</td>\n",
              "      <td>332.6</td>\n",
              "      <td>388.5</td>\n",
              "      <td>558.2</td>\n",
              "      <td>33.6</td>\n",
              "      <td>3373.2</td>\n",
              "      <td>136.3</td>\n",
              "      <td>560.3</td>\n",
              "      <td>1696.3</td>\n",
              "      <td>980.3</td>\n",
              "    </tr>\n",
              "    <tr>\n",
              "      <th>1</th>\n",
              "      <td>ANDAMAN &amp; NICOBAR ISLANDS</td>\n",
              "      <td>1902</td>\n",
              "      <td>0.0</td>\n",
              "      <td>159.8</td>\n",
              "      <td>12.2</td>\n",
              "      <td>0.0</td>\n",
              "      <td>446.1</td>\n",
              "      <td>537.1</td>\n",
              "      <td>228.9</td>\n",
              "      <td>753.7</td>\n",
              "      <td>666.2</td>\n",
              "      <td>197.2</td>\n",
              "      <td>359.0</td>\n",
              "      <td>160.5</td>\n",
              "      <td>3520.7</td>\n",
              "      <td>159.8</td>\n",
              "      <td>458.3</td>\n",
              "      <td>2185.9</td>\n",
              "      <td>716.7</td>\n",
              "    </tr>\n",
              "    <tr>\n",
              "      <th>2</th>\n",
              "      <td>ANDAMAN &amp; NICOBAR ISLANDS</td>\n",
              "      <td>1903</td>\n",
              "      <td>12.7</td>\n",
              "      <td>144.0</td>\n",
              "      <td>0.0</td>\n",
              "      <td>1.0</td>\n",
              "      <td>235.1</td>\n",
              "      <td>479.9</td>\n",
              "      <td>728.4</td>\n",
              "      <td>326.7</td>\n",
              "      <td>339.0</td>\n",
              "      <td>181.2</td>\n",
              "      <td>284.4</td>\n",
              "      <td>225.0</td>\n",
              "      <td>2957.4</td>\n",
              "      <td>156.7</td>\n",
              "      <td>236.1</td>\n",
              "      <td>1874.0</td>\n",
              "      <td>690.6</td>\n",
              "    </tr>\n",
              "    <tr>\n",
              "      <th>3</th>\n",
              "      <td>ANDAMAN &amp; NICOBAR ISLANDS</td>\n",
              "      <td>1904</td>\n",
              "      <td>9.4</td>\n",
              "      <td>14.7</td>\n",
              "      <td>0.0</td>\n",
              "      <td>202.4</td>\n",
              "      <td>304.5</td>\n",
              "      <td>495.1</td>\n",
              "      <td>502.0</td>\n",
              "      <td>160.1</td>\n",
              "      <td>820.4</td>\n",
              "      <td>222.2</td>\n",
              "      <td>308.7</td>\n",
              "      <td>40.1</td>\n",
              "      <td>3079.6</td>\n",
              "      <td>24.1</td>\n",
              "      <td>506.9</td>\n",
              "      <td>1977.6</td>\n",
              "      <td>571.0</td>\n",
              "    </tr>\n",
              "    <tr>\n",
              "      <th>4</th>\n",
              "      <td>ANDAMAN &amp; NICOBAR ISLANDS</td>\n",
              "      <td>1905</td>\n",
              "      <td>1.3</td>\n",
              "      <td>0.0</td>\n",
              "      <td>3.3</td>\n",
              "      <td>26.9</td>\n",
              "      <td>279.5</td>\n",
              "      <td>628.7</td>\n",
              "      <td>368.7</td>\n",
              "      <td>330.5</td>\n",
              "      <td>297.0</td>\n",
              "      <td>260.7</td>\n",
              "      <td>25.4</td>\n",
              "      <td>344.7</td>\n",
              "      <td>2566.7</td>\n",
              "      <td>1.3</td>\n",
              "      <td>309.7</td>\n",
              "      <td>1624.9</td>\n",
              "      <td>630.8</td>\n",
              "    </tr>\n",
              "  </tbody>\n",
              "</table>\n",
              "</div>"
            ],
            "text/plain": [
              "                 SUBDIVISION  YEAR   JAN    FEB   MAR    APR    MAY    JUN   \n",
              "0  ANDAMAN & NICOBAR ISLANDS  1901  49.2   87.1  29.2    2.3  528.8  517.5  \\\n",
              "1  ANDAMAN & NICOBAR ISLANDS  1902   0.0  159.8  12.2    0.0  446.1  537.1   \n",
              "2  ANDAMAN & NICOBAR ISLANDS  1903  12.7  144.0   0.0    1.0  235.1  479.9   \n",
              "3  ANDAMAN & NICOBAR ISLANDS  1904   9.4   14.7   0.0  202.4  304.5  495.1   \n",
              "4  ANDAMAN & NICOBAR ISLANDS  1905   1.3    0.0   3.3   26.9  279.5  628.7   \n",
              "\n",
              "     JUL    AUG    SEP    OCT    NOV    DEC  ANNUAL  Jan-Feb  Mar-May   \n",
              "0  365.1  481.1  332.6  388.5  558.2   33.6  3373.2    136.3    560.3  \\\n",
              "1  228.9  753.7  666.2  197.2  359.0  160.5  3520.7    159.8    458.3   \n",
              "2  728.4  326.7  339.0  181.2  284.4  225.0  2957.4    156.7    236.1   \n",
              "3  502.0  160.1  820.4  222.2  308.7   40.1  3079.6     24.1    506.9   \n",
              "4  368.7  330.5  297.0  260.7   25.4  344.7  2566.7      1.3    309.7   \n",
              "\n",
              "   Jun-Sep  Oct-Dec  \n",
              "0   1696.3    980.3  \n",
              "1   2185.9    716.7  \n",
              "2   1874.0    690.6  \n",
              "3   1977.6    571.0  \n",
              "4   1624.9    630.8  "
            ]
          },
          "execution_count": 3,
          "metadata": {},
          "output_type": "execute_result"
        }
      ],
      "source": [
        "df = pd.read_csv(\"rainfall in india 1901-2015.csv\")\n",
        "df.head()"
      ]
    },
    {
      "cell_type": "code",
      "execution_count": 4,
      "metadata": {
        "colab": {
          "base_uri": "https://localhost:8080/"
        },
        "id": "AuHbEd5_VOis",
        "outputId": "81acc8ce-b4a4-4bfe-94cd-db05e64d0897"
      },
      "outputs": [
        {
          "data": {
            "text/plain": [
              "Index(['SUBDIVISION', 'YEAR', 'JAN', 'FEB', 'MAR', 'APR', 'MAY', 'JUN', 'JUL',\n",
              "       'AUG', 'SEP', 'OCT', 'NOV', 'DEC', 'ANNUAL', 'Jan-Feb', 'Mar-May',\n",
              "       'Jun-Sep', 'Oct-Dec'],\n",
              "      dtype='object')"
            ]
          },
          "execution_count": 4,
          "metadata": {},
          "output_type": "execute_result"
        }
      ],
      "source": [
        "df.columns"
      ]
    },
    {
      "cell_type": "code",
      "execution_count": 5,
      "metadata": {
        "colab": {
          "base_uri": "https://localhost:8080/",
          "height": 364
        },
        "id": "kZIQM_I0VgPp",
        "outputId": "1d067b95-ab29-4341-e4c3-7b9ed1d4038f"
      },
      "outputs": [
        {
          "data": {
            "text/html": [
              "<div>\n",
              "<style scoped>\n",
              "    .dataframe tbody tr th:only-of-type {\n",
              "        vertical-align: middle;\n",
              "    }\n",
              "\n",
              "    .dataframe tbody tr th {\n",
              "        vertical-align: top;\n",
              "    }\n",
              "\n",
              "    .dataframe thead th {\n",
              "        text-align: right;\n",
              "    }\n",
              "</style>\n",
              "<table border=\"1\" class=\"dataframe\">\n",
              "  <thead>\n",
              "    <tr style=\"text-align: right;\">\n",
              "      <th></th>\n",
              "      <th>YEAR</th>\n",
              "      <th>JAN</th>\n",
              "      <th>FEB</th>\n",
              "      <th>MAR</th>\n",
              "      <th>APR</th>\n",
              "      <th>MAY</th>\n",
              "      <th>JUN</th>\n",
              "      <th>JUL</th>\n",
              "      <th>AUG</th>\n",
              "      <th>SEP</th>\n",
              "      <th>OCT</th>\n",
              "      <th>NOV</th>\n",
              "      <th>DEC</th>\n",
              "      <th>ANNUAL</th>\n",
              "      <th>Jan-Feb</th>\n",
              "      <th>Mar-May</th>\n",
              "      <th>Jun-Sep</th>\n",
              "      <th>Oct-Dec</th>\n",
              "    </tr>\n",
              "  </thead>\n",
              "  <tbody>\n",
              "    <tr>\n",
              "      <th>count</th>\n",
              "      <td>4116.000000</td>\n",
              "      <td>4112.000000</td>\n",
              "      <td>4113.000000</td>\n",
              "      <td>4110.000000</td>\n",
              "      <td>4112.000000</td>\n",
              "      <td>4113.000000</td>\n",
              "      <td>4111.000000</td>\n",
              "      <td>4109.000000</td>\n",
              "      <td>4112.000000</td>\n",
              "      <td>4110.000000</td>\n",
              "      <td>4109.000000</td>\n",
              "      <td>4105.000000</td>\n",
              "      <td>4106.000000</td>\n",
              "      <td>4090.000000</td>\n",
              "      <td>4110.000000</td>\n",
              "      <td>4107.000000</td>\n",
              "      <td>4106.000000</td>\n",
              "      <td>4103.000000</td>\n",
              "    </tr>\n",
              "    <tr>\n",
              "      <th>mean</th>\n",
              "      <td>1958.218659</td>\n",
              "      <td>18.957320</td>\n",
              "      <td>21.805325</td>\n",
              "      <td>27.359197</td>\n",
              "      <td>43.127432</td>\n",
              "      <td>85.745417</td>\n",
              "      <td>230.234444</td>\n",
              "      <td>347.214334</td>\n",
              "      <td>290.263497</td>\n",
              "      <td>197.361922</td>\n",
              "      <td>95.507009</td>\n",
              "      <td>39.866163</td>\n",
              "      <td>18.870580</td>\n",
              "      <td>1411.008900</td>\n",
              "      <td>40.747786</td>\n",
              "      <td>155.901753</td>\n",
              "      <td>1064.724769</td>\n",
              "      <td>154.100487</td>\n",
              "    </tr>\n",
              "    <tr>\n",
              "      <th>std</th>\n",
              "      <td>33.140898</td>\n",
              "      <td>33.585371</td>\n",
              "      <td>35.909488</td>\n",
              "      <td>46.959424</td>\n",
              "      <td>67.831168</td>\n",
              "      <td>123.234904</td>\n",
              "      <td>234.710758</td>\n",
              "      <td>269.539667</td>\n",
              "      <td>188.770477</td>\n",
              "      <td>135.408345</td>\n",
              "      <td>99.519134</td>\n",
              "      <td>68.685410</td>\n",
              "      <td>42.369611</td>\n",
              "      <td>903.846565</td>\n",
              "      <td>59.308277</td>\n",
              "      <td>201.316965</td>\n",
              "      <td>707.741531</td>\n",
              "      <td>166.942660</td>\n",
              "    </tr>\n",
              "    <tr>\n",
              "      <th>min</th>\n",
              "      <td>1901.000000</td>\n",
              "      <td>0.000000</td>\n",
              "      <td>0.000000</td>\n",
              "      <td>0.000000</td>\n",
              "      <td>0.000000</td>\n",
              "      <td>0.000000</td>\n",
              "      <td>0.400000</td>\n",
              "      <td>0.000000</td>\n",
              "      <td>0.000000</td>\n",
              "      <td>0.100000</td>\n",
              "      <td>0.000000</td>\n",
              "      <td>0.000000</td>\n",
              "      <td>0.000000</td>\n",
              "      <td>62.300000</td>\n",
              "      <td>0.000000</td>\n",
              "      <td>0.000000</td>\n",
              "      <td>57.400000</td>\n",
              "      <td>0.000000</td>\n",
              "    </tr>\n",
              "    <tr>\n",
              "      <th>25%</th>\n",
              "      <td>1930.000000</td>\n",
              "      <td>0.600000</td>\n",
              "      <td>0.600000</td>\n",
              "      <td>1.000000</td>\n",
              "      <td>3.000000</td>\n",
              "      <td>8.600000</td>\n",
              "      <td>70.350000</td>\n",
              "      <td>175.600000</td>\n",
              "      <td>155.975000</td>\n",
              "      <td>100.525000</td>\n",
              "      <td>14.600000</td>\n",
              "      <td>0.700000</td>\n",
              "      <td>0.100000</td>\n",
              "      <td>804.500000</td>\n",
              "      <td>4.100000</td>\n",
              "      <td>24.050000</td>\n",
              "      <td>573.850000</td>\n",
              "      <td>34.200000</td>\n",
              "    </tr>\n",
              "    <tr>\n",
              "      <th>50%</th>\n",
              "      <td>1958.000000</td>\n",
              "      <td>6.000000</td>\n",
              "      <td>6.700000</td>\n",
              "      <td>7.800000</td>\n",
              "      <td>15.700000</td>\n",
              "      <td>36.600000</td>\n",
              "      <td>138.700000</td>\n",
              "      <td>284.800000</td>\n",
              "      <td>259.400000</td>\n",
              "      <td>173.900000</td>\n",
              "      <td>65.200000</td>\n",
              "      <td>9.500000</td>\n",
              "      <td>3.000000</td>\n",
              "      <td>1121.300000</td>\n",
              "      <td>19.200000</td>\n",
              "      <td>74.800000</td>\n",
              "      <td>881.100000</td>\n",
              "      <td>98.200000</td>\n",
              "    </tr>\n",
              "    <tr>\n",
              "      <th>75%</th>\n",
              "      <td>1987.000000</td>\n",
              "      <td>22.200000</td>\n",
              "      <td>26.800000</td>\n",
              "      <td>31.300000</td>\n",
              "      <td>49.950000</td>\n",
              "      <td>97.200000</td>\n",
              "      <td>305.150000</td>\n",
              "      <td>418.400000</td>\n",
              "      <td>377.800000</td>\n",
              "      <td>265.800000</td>\n",
              "      <td>148.400000</td>\n",
              "      <td>46.100000</td>\n",
              "      <td>17.500000</td>\n",
              "      <td>1644.775000</td>\n",
              "      <td>50.375000</td>\n",
              "      <td>196.950000</td>\n",
              "      <td>1288.175000</td>\n",
              "      <td>213.500000</td>\n",
              "    </tr>\n",
              "    <tr>\n",
              "      <th>max</th>\n",
              "      <td>2015.000000</td>\n",
              "      <td>583.700000</td>\n",
              "      <td>403.500000</td>\n",
              "      <td>605.600000</td>\n",
              "      <td>595.100000</td>\n",
              "      <td>1168.600000</td>\n",
              "      <td>1609.900000</td>\n",
              "      <td>2362.800000</td>\n",
              "      <td>1664.600000</td>\n",
              "      <td>1222.000000</td>\n",
              "      <td>948.300000</td>\n",
              "      <td>648.900000</td>\n",
              "      <td>617.500000</td>\n",
              "      <td>6331.100000</td>\n",
              "      <td>699.500000</td>\n",
              "      <td>1745.800000</td>\n",
              "      <td>4536.900000</td>\n",
              "      <td>1252.500000</td>\n",
              "    </tr>\n",
              "  </tbody>\n",
              "</table>\n",
              "</div>"
            ],
            "text/plain": [
              "              YEAR          JAN          FEB          MAR          APR   \n",
              "count  4116.000000  4112.000000  4113.000000  4110.000000  4112.000000  \\\n",
              "mean   1958.218659    18.957320    21.805325    27.359197    43.127432   \n",
              "std      33.140898    33.585371    35.909488    46.959424    67.831168   \n",
              "min    1901.000000     0.000000     0.000000     0.000000     0.000000   \n",
              "25%    1930.000000     0.600000     0.600000     1.000000     3.000000   \n",
              "50%    1958.000000     6.000000     6.700000     7.800000    15.700000   \n",
              "75%    1987.000000    22.200000    26.800000    31.300000    49.950000   \n",
              "max    2015.000000   583.700000   403.500000   605.600000   595.100000   \n",
              "\n",
              "               MAY          JUN          JUL          AUG          SEP   \n",
              "count  4113.000000  4111.000000  4109.000000  4112.000000  4110.000000  \\\n",
              "mean     85.745417   230.234444   347.214334   290.263497   197.361922   \n",
              "std     123.234904   234.710758   269.539667   188.770477   135.408345   \n",
              "min       0.000000     0.400000     0.000000     0.000000     0.100000   \n",
              "25%       8.600000    70.350000   175.600000   155.975000   100.525000   \n",
              "50%      36.600000   138.700000   284.800000   259.400000   173.900000   \n",
              "75%      97.200000   305.150000   418.400000   377.800000   265.800000   \n",
              "max    1168.600000  1609.900000  2362.800000  1664.600000  1222.000000   \n",
              "\n",
              "               OCT          NOV          DEC       ANNUAL      Jan-Feb   \n",
              "count  4109.000000  4105.000000  4106.000000  4090.000000  4110.000000  \\\n",
              "mean     95.507009    39.866163    18.870580  1411.008900    40.747786   \n",
              "std      99.519134    68.685410    42.369611   903.846565    59.308277   \n",
              "min       0.000000     0.000000     0.000000    62.300000     0.000000   \n",
              "25%      14.600000     0.700000     0.100000   804.500000     4.100000   \n",
              "50%      65.200000     9.500000     3.000000  1121.300000    19.200000   \n",
              "75%     148.400000    46.100000    17.500000  1644.775000    50.375000   \n",
              "max     948.300000   648.900000   617.500000  6331.100000   699.500000   \n",
              "\n",
              "           Mar-May      Jun-Sep      Oct-Dec  \n",
              "count  4107.000000  4106.000000  4103.000000  \n",
              "mean    155.901753  1064.724769   154.100487  \n",
              "std     201.316965   707.741531   166.942660  \n",
              "min       0.000000    57.400000     0.000000  \n",
              "25%      24.050000   573.850000    34.200000  \n",
              "50%      74.800000   881.100000    98.200000  \n",
              "75%     196.950000  1288.175000   213.500000  \n",
              "max    1745.800000  4536.900000  1252.500000  "
            ]
          },
          "execution_count": 5,
          "metadata": {},
          "output_type": "execute_result"
        }
      ],
      "source": [
        "# give statistical data about dataset\n",
        "df.describe()"
      ]
    },
    {
      "cell_type": "code",
      "execution_count": 6,
      "metadata": {
        "colab": {
          "base_uri": "https://localhost:8080/"
        },
        "id": "TAdUrzfBVo6F",
        "outputId": "9a74ce66-ae57-4608-b2b1-adc4f1767c71"
      },
      "outputs": [
        {
          "name": "stdout",
          "output_type": "stream",
          "text": [
            "<class 'pandas.core.frame.DataFrame'>\n",
            "RangeIndex: 4116 entries, 0 to 4115\n",
            "Data columns (total 19 columns):\n",
            " #   Column       Non-Null Count  Dtype  \n",
            "---  ------       --------------  -----  \n",
            " 0   SUBDIVISION  4116 non-null   object \n",
            " 1   YEAR         4116 non-null   int64  \n",
            " 2   JAN          4112 non-null   float64\n",
            " 3   FEB          4113 non-null   float64\n",
            " 4   MAR          4110 non-null   float64\n",
            " 5   APR          4112 non-null   float64\n",
            " 6   MAY          4113 non-null   float64\n",
            " 7   JUN          4111 non-null   float64\n",
            " 8   JUL          4109 non-null   float64\n",
            " 9   AUG          4112 non-null   float64\n",
            " 10  SEP          4110 non-null   float64\n",
            " 11  OCT          4109 non-null   float64\n",
            " 12  NOV          4105 non-null   float64\n",
            " 13  DEC          4106 non-null   float64\n",
            " 14  ANNUAL       4090 non-null   float64\n",
            " 15  Jan-Feb      4110 non-null   float64\n",
            " 16  Mar-May      4107 non-null   float64\n",
            " 17  Jun-Sep      4106 non-null   float64\n",
            " 18  Oct-Dec      4103 non-null   float64\n",
            "dtypes: float64(17), int64(1), object(1)\n",
            "memory usage: 611.1+ KB\n"
          ]
        }
      ],
      "source": [
        "df.info()"
      ]
    },
    {
      "cell_type": "code",
      "execution_count": 8,
      "metadata": {
        "colab": {
          "base_uri": "https://localhost:8080/",
          "height": 678
        },
        "id": "fkIHgmx0VyJZ",
        "outputId": "04a5cffb-9b3f-4af8-d9ec-5c89bee7dbe0"
      },
      "outputs": [
        {
          "ename": "ValueError",
          "evalue": "could not convert string to float: 'ANDAMAN & NICOBAR ISLANDS'",
          "output_type": "error",
          "traceback": [
            "\u001b[1;31m---------------------------------------------------------------------------\u001b[0m",
            "\u001b[1;31mValueError\u001b[0m                                Traceback (most recent call last)",
            "Cell \u001b[1;32mIn[8], line 1\u001b[0m\n\u001b[1;32m----> 1\u001b[0m df\u001b[39m.\u001b[39;49mcorr()\n",
            "File \u001b[1;32mc:\\Python310\\lib\\site-packages\\pandas\\core\\frame.py:10054\u001b[0m, in \u001b[0;36mDataFrame.corr\u001b[1;34m(self, method, min_periods, numeric_only)\u001b[0m\n\u001b[0;32m  10052\u001b[0m cols \u001b[39m=\u001b[39m data\u001b[39m.\u001b[39mcolumns\n\u001b[0;32m  10053\u001b[0m idx \u001b[39m=\u001b[39m cols\u001b[39m.\u001b[39mcopy()\n\u001b[1;32m> 10054\u001b[0m mat \u001b[39m=\u001b[39m data\u001b[39m.\u001b[39;49mto_numpy(dtype\u001b[39m=\u001b[39;49m\u001b[39mfloat\u001b[39;49m, na_value\u001b[39m=\u001b[39;49mnp\u001b[39m.\u001b[39;49mnan, copy\u001b[39m=\u001b[39;49m\u001b[39mFalse\u001b[39;49;00m)\n\u001b[0;32m  10056\u001b[0m \u001b[39mif\u001b[39;00m method \u001b[39m==\u001b[39m \u001b[39m\"\u001b[39m\u001b[39mpearson\u001b[39m\u001b[39m\"\u001b[39m:\n\u001b[0;32m  10057\u001b[0m     correl \u001b[39m=\u001b[39m libalgos\u001b[39m.\u001b[39mnancorr(mat, minp\u001b[39m=\u001b[39mmin_periods)\n",
            "File \u001b[1;32mc:\\Python310\\lib\\site-packages\\pandas\\core\\frame.py:1837\u001b[0m, in \u001b[0;36mDataFrame.to_numpy\u001b[1;34m(self, dtype, copy, na_value)\u001b[0m\n\u001b[0;32m   1835\u001b[0m \u001b[39mif\u001b[39;00m dtype \u001b[39mis\u001b[39;00m \u001b[39mnot\u001b[39;00m \u001b[39mNone\u001b[39;00m:\n\u001b[0;32m   1836\u001b[0m     dtype \u001b[39m=\u001b[39m np\u001b[39m.\u001b[39mdtype(dtype)\n\u001b[1;32m-> 1837\u001b[0m result \u001b[39m=\u001b[39m \u001b[39mself\u001b[39;49m\u001b[39m.\u001b[39;49m_mgr\u001b[39m.\u001b[39;49mas_array(dtype\u001b[39m=\u001b[39;49mdtype, copy\u001b[39m=\u001b[39;49mcopy, na_value\u001b[39m=\u001b[39;49mna_value)\n\u001b[0;32m   1838\u001b[0m \u001b[39mif\u001b[39;00m result\u001b[39m.\u001b[39mdtype \u001b[39mis\u001b[39;00m \u001b[39mnot\u001b[39;00m dtype:\n\u001b[0;32m   1839\u001b[0m     result \u001b[39m=\u001b[39m np\u001b[39m.\u001b[39marray(result, dtype\u001b[39m=\u001b[39mdtype, copy\u001b[39m=\u001b[39m\u001b[39mFalse\u001b[39;00m)\n",
            "File \u001b[1;32mc:\\Python310\\lib\\site-packages\\pandas\\core\\internals\\managers.py:1732\u001b[0m, in \u001b[0;36mBlockManager.as_array\u001b[1;34m(self, dtype, copy, na_value)\u001b[0m\n\u001b[0;32m   1730\u001b[0m         arr\u001b[39m.\u001b[39mflags\u001b[39m.\u001b[39mwriteable \u001b[39m=\u001b[39m \u001b[39mFalse\u001b[39;00m\n\u001b[0;32m   1731\u001b[0m \u001b[39melse\u001b[39;00m:\n\u001b[1;32m-> 1732\u001b[0m     arr \u001b[39m=\u001b[39m \u001b[39mself\u001b[39;49m\u001b[39m.\u001b[39;49m_interleave(dtype\u001b[39m=\u001b[39;49mdtype, na_value\u001b[39m=\u001b[39;49mna_value)\n\u001b[0;32m   1733\u001b[0m     \u001b[39m# The underlying data was copied within _interleave, so no need\u001b[39;00m\n\u001b[0;32m   1734\u001b[0m     \u001b[39m# to further copy if copy=True or setting na_value\u001b[39;00m\n\u001b[0;32m   1736\u001b[0m \u001b[39mif\u001b[39;00m na_value \u001b[39mis\u001b[39;00m \u001b[39mnot\u001b[39;00m lib\u001b[39m.\u001b[39mno_default:\n",
            "File \u001b[1;32mc:\\Python310\\lib\\site-packages\\pandas\\core\\internals\\managers.py:1794\u001b[0m, in \u001b[0;36mBlockManager._interleave\u001b[1;34m(self, dtype, na_value)\u001b[0m\n\u001b[0;32m   1792\u001b[0m     \u001b[39melse\u001b[39;00m:\n\u001b[0;32m   1793\u001b[0m         arr \u001b[39m=\u001b[39m blk\u001b[39m.\u001b[39mget_values(dtype)\n\u001b[1;32m-> 1794\u001b[0m     result[rl\u001b[39m.\u001b[39;49mindexer] \u001b[39m=\u001b[39m arr\n\u001b[0;32m   1795\u001b[0m     itemmask[rl\u001b[39m.\u001b[39mindexer] \u001b[39m=\u001b[39m \u001b[39m1\u001b[39m\n\u001b[0;32m   1797\u001b[0m \u001b[39mif\u001b[39;00m \u001b[39mnot\u001b[39;00m itemmask\u001b[39m.\u001b[39mall():\n",
            "\u001b[1;31mValueError\u001b[0m: could not convert string to float: 'ANDAMAN & NICOBAR ISLANDS'"
          ]
        }
      ],
      "source": [
        "df.corr()"
      ]
    },
    {
      "cell_type": "code",
      "execution_count": 9,
      "metadata": {
        "colab": {
          "base_uri": "https://localhost:8080/",
          "height": 319
        },
        "id": "BKQ8QLOWV9VT",
        "outputId": "88ed5698-0f45-4e01-a144-b93bea363317"
      },
      "outputs": [
        {
          "ename": "ValueError",
          "evalue": "could not convert string to float: 'ANDAMAN & NICOBAR ISLANDS'",
          "output_type": "error",
          "traceback": [
            "\u001b[1;31m---------------------------------------------------------------------------\u001b[0m",
            "\u001b[1;31mValueError\u001b[0m                                Traceback (most recent call last)",
            "Cell \u001b[1;32mIn[9], line 1\u001b[0m\n\u001b[1;32m----> 1\u001b[0m sns\u001b[39m.\u001b[39mheatmap(df\u001b[39m.\u001b[39;49mcorr(), annot\u001b[39m=\u001b[39m\u001b[39mFalse\u001b[39;00m)\n",
            "File \u001b[1;32mc:\\Python310\\lib\\site-packages\\pandas\\core\\frame.py:10054\u001b[0m, in \u001b[0;36mDataFrame.corr\u001b[1;34m(self, method, min_periods, numeric_only)\u001b[0m\n\u001b[0;32m  10052\u001b[0m cols \u001b[39m=\u001b[39m data\u001b[39m.\u001b[39mcolumns\n\u001b[0;32m  10053\u001b[0m idx \u001b[39m=\u001b[39m cols\u001b[39m.\u001b[39mcopy()\n\u001b[1;32m> 10054\u001b[0m mat \u001b[39m=\u001b[39m data\u001b[39m.\u001b[39;49mto_numpy(dtype\u001b[39m=\u001b[39;49m\u001b[39mfloat\u001b[39;49m, na_value\u001b[39m=\u001b[39;49mnp\u001b[39m.\u001b[39;49mnan, copy\u001b[39m=\u001b[39;49m\u001b[39mFalse\u001b[39;49;00m)\n\u001b[0;32m  10056\u001b[0m \u001b[39mif\u001b[39;00m method \u001b[39m==\u001b[39m \u001b[39m\"\u001b[39m\u001b[39mpearson\u001b[39m\u001b[39m\"\u001b[39m:\n\u001b[0;32m  10057\u001b[0m     correl \u001b[39m=\u001b[39m libalgos\u001b[39m.\u001b[39mnancorr(mat, minp\u001b[39m=\u001b[39mmin_periods)\n",
            "File \u001b[1;32mc:\\Python310\\lib\\site-packages\\pandas\\core\\frame.py:1837\u001b[0m, in \u001b[0;36mDataFrame.to_numpy\u001b[1;34m(self, dtype, copy, na_value)\u001b[0m\n\u001b[0;32m   1835\u001b[0m \u001b[39mif\u001b[39;00m dtype \u001b[39mis\u001b[39;00m \u001b[39mnot\u001b[39;00m \u001b[39mNone\u001b[39;00m:\n\u001b[0;32m   1836\u001b[0m     dtype \u001b[39m=\u001b[39m np\u001b[39m.\u001b[39mdtype(dtype)\n\u001b[1;32m-> 1837\u001b[0m result \u001b[39m=\u001b[39m \u001b[39mself\u001b[39;49m\u001b[39m.\u001b[39;49m_mgr\u001b[39m.\u001b[39;49mas_array(dtype\u001b[39m=\u001b[39;49mdtype, copy\u001b[39m=\u001b[39;49mcopy, na_value\u001b[39m=\u001b[39;49mna_value)\n\u001b[0;32m   1838\u001b[0m \u001b[39mif\u001b[39;00m result\u001b[39m.\u001b[39mdtype \u001b[39mis\u001b[39;00m \u001b[39mnot\u001b[39;00m dtype:\n\u001b[0;32m   1839\u001b[0m     result \u001b[39m=\u001b[39m np\u001b[39m.\u001b[39marray(result, dtype\u001b[39m=\u001b[39mdtype, copy\u001b[39m=\u001b[39m\u001b[39mFalse\u001b[39;00m)\n",
            "File \u001b[1;32mc:\\Python310\\lib\\site-packages\\pandas\\core\\internals\\managers.py:1732\u001b[0m, in \u001b[0;36mBlockManager.as_array\u001b[1;34m(self, dtype, copy, na_value)\u001b[0m\n\u001b[0;32m   1730\u001b[0m         arr\u001b[39m.\u001b[39mflags\u001b[39m.\u001b[39mwriteable \u001b[39m=\u001b[39m \u001b[39mFalse\u001b[39;00m\n\u001b[0;32m   1731\u001b[0m \u001b[39melse\u001b[39;00m:\n\u001b[1;32m-> 1732\u001b[0m     arr \u001b[39m=\u001b[39m \u001b[39mself\u001b[39;49m\u001b[39m.\u001b[39;49m_interleave(dtype\u001b[39m=\u001b[39;49mdtype, na_value\u001b[39m=\u001b[39;49mna_value)\n\u001b[0;32m   1733\u001b[0m     \u001b[39m# The underlying data was copied within _interleave, so no need\u001b[39;00m\n\u001b[0;32m   1734\u001b[0m     \u001b[39m# to further copy if copy=True or setting na_value\u001b[39;00m\n\u001b[0;32m   1736\u001b[0m \u001b[39mif\u001b[39;00m na_value \u001b[39mis\u001b[39;00m \u001b[39mnot\u001b[39;00m lib\u001b[39m.\u001b[39mno_default:\n",
            "File \u001b[1;32mc:\\Python310\\lib\\site-packages\\pandas\\core\\internals\\managers.py:1794\u001b[0m, in \u001b[0;36mBlockManager._interleave\u001b[1;34m(self, dtype, na_value)\u001b[0m\n\u001b[0;32m   1792\u001b[0m     \u001b[39melse\u001b[39;00m:\n\u001b[0;32m   1793\u001b[0m         arr \u001b[39m=\u001b[39m blk\u001b[39m.\u001b[39mget_values(dtype)\n\u001b[1;32m-> 1794\u001b[0m     result[rl\u001b[39m.\u001b[39;49mindexer] \u001b[39m=\u001b[39m arr\n\u001b[0;32m   1795\u001b[0m     itemmask[rl\u001b[39m.\u001b[39mindexer] \u001b[39m=\u001b[39m \u001b[39m1\u001b[39m\n\u001b[0;32m   1797\u001b[0m \u001b[39mif\u001b[39;00m \u001b[39mnot\u001b[39;00m itemmask\u001b[39m.\u001b[39mall():\n",
            "\u001b[1;31mValueError\u001b[0m: could not convert string to float: 'ANDAMAN & NICOBAR ISLANDS'"
          ]
        }
      ],
      "source": [
        "sns.heatmap(df.corr(), annot=False)"
      ]
    },
    {
      "cell_type": "code",
      "execution_count": 9,
      "metadata": {
        "colab": {
          "base_uri": "https://localhost:8080/"
        },
        "id": "Bi5BEV72WBQw",
        "outputId": "ebeade71-1363-4ca1-b7d5-522054eeb1a0"
      },
      "outputs": [
        {
          "data": {
            "text/plain": [
              "SUBDIVISION     0\n",
              "YEAR            0\n",
              "JAN             4\n",
              "FEB             3\n",
              "MAR             6\n",
              "APR             4\n",
              "MAY             3\n",
              "JUN             5\n",
              "JUL             7\n",
              "AUG             4\n",
              "SEP             6\n",
              "OCT             7\n",
              "NOV            11\n",
              "DEC            10\n",
              "ANNUAL         26\n",
              "Jan-Feb         6\n",
              "Mar-May         9\n",
              "Jun-Sep        10\n",
              "Oct-Dec        13\n",
              "dtype: int64"
            ]
          },
          "execution_count": 9,
          "metadata": {},
          "output_type": "execute_result"
        }
      ],
      "source": [
        "df.isnull().sum()"
      ]
    },
    {
      "cell_type": "code",
      "execution_count": 10,
      "metadata": {
        "colab": {
          "base_uri": "https://localhost:8080/"
        },
        "id": "_lHI7KAfWfh4",
        "outputId": "bfab2eef-d78b-45c2-9c6d-68440f7b385d"
      },
      "outputs": [
        {
          "data": {
            "text/plain": [
              "0"
            ]
          },
          "execution_count": 10,
          "metadata": {},
          "output_type": "execute_result"
        }
      ],
      "source": [
        "df.duplicated().sum()"
      ]
    },
    {
      "cell_type": "code",
      "execution_count": 11,
      "metadata": {
        "colab": {
          "base_uri": "https://localhost:8080/"
        },
        "id": "7DePw67FWpiS",
        "outputId": "2c395405-d5e5-4853-f217-98e596b997f4"
      },
      "outputs": [
        {
          "data": {
            "text/plain": [
              "SUBDIVISION\n",
              "WEST MADHYA PRADESH                   115\n",
              "EAST RAJASTHAN                        115\n",
              "COASTAL KARNATAKA                     115\n",
              "TAMIL NADU                            115\n",
              "RAYALSEEMA                            115\n",
              "TELANGANA                             115\n",
              "COASTAL ANDHRA PRADESH                115\n",
              "CHHATTISGARH                          115\n",
              "VIDARBHA                              115\n",
              "MATATHWADA                            115\n",
              "MADHYA MAHARASHTRA                    115\n",
              "KONKAN & GOA                          115\n",
              "SAURASHTRA & KUTCH                    115\n",
              "GUJARAT REGION                        115\n",
              "EAST MADHYA PRADESH                   115\n",
              "KERALA                                115\n",
              "WEST RAJASTHAN                        115\n",
              "SOUTH INTERIOR KARNATAKA              115\n",
              "JAMMU & KASHMIR                       115\n",
              "HIMACHAL PRADESH                      115\n",
              "PUNJAB                                115\n",
              "HARYANA DELHI & CHANDIGARH            115\n",
              "UTTARAKHAND                           115\n",
              "WEST UTTAR PRADESH                    115\n",
              "EAST UTTAR PRADESH                    115\n",
              "BIHAR                                 115\n",
              "JHARKHAND                             115\n",
              "ORISSA                                115\n",
              "GANGETIC WEST BENGAL                  115\n",
              "SUB HIMALAYAN WEST BENGAL & SIKKIM    115\n",
              "NAGA MANI MIZO TRIPURA                115\n",
              "ASSAM & MEGHALAYA                     115\n",
              "NORTH INTERIOR KARNATAKA              115\n",
              "LAKSHADWEEP                           114\n",
              "ANDAMAN & NICOBAR ISLANDS             110\n",
              "ARUNACHAL PRADESH                      97\n",
              "Name: count, dtype: int64"
            ]
          },
          "execution_count": 11,
          "metadata": {},
          "output_type": "execute_result"
        }
      ],
      "source": [
        "df['SUBDIVISION'].value_counts()"
      ]
    },
    {
      "cell_type": "code",
      "execution_count": 12,
      "metadata": {
        "colab": {
          "base_uri": "https://localhost:8080/"
        },
        "id": "lquoMrokWsTa",
        "outputId": "7c1f22a1-4ad1-4153-e015-6f691b0fb734"
      },
      "outputs": [
        {
          "data": {
            "text/plain": [
              "YEAR       1958.218659\n",
              "JAN          18.957320\n",
              "FEB          21.805325\n",
              "MAR          27.359197\n",
              "APR          43.127432\n",
              "MAY          85.745417\n",
              "JUN         230.234444\n",
              "JUL         347.214334\n",
              "AUG         290.263497\n",
              "SEP         197.361922\n",
              "OCT          95.507009\n",
              "NOV          39.866163\n",
              "DEC          18.870580\n",
              "ANNUAL     1411.008900\n",
              "Jan-Feb      40.747786\n",
              "Mar-May     155.901753\n",
              "Jun-Sep    1064.724769\n",
              "Oct-Dec     154.100487\n",
              "dtype: float64"
            ]
          },
          "execution_count": 12,
          "metadata": {},
          "output_type": "execute_result"
        }
      ],
      "source": [
        "df.mean(numeric_only=True)"
      ]
    },
    {
      "cell_type": "code",
      "execution_count": 13,
      "metadata": {
        "id": "rfURuZ_aW1z9"
      },
      "outputs": [],
      "source": [
        "df=df.fillna(df.mean(numeric_only=True))"
      ]
    },
    {
      "cell_type": "code",
      "execution_count": 14,
      "metadata": {
        "colab": {
          "base_uri": "https://localhost:8080/",
          "height": 354
        },
        "id": "fLEcC3CwXE2i",
        "outputId": "f7e77c3e-a45d-485e-e85a-dd059f546a9b"
      },
      "outputs": [
        {
          "data": {
            "text/html": [
              "<div>\n",
              "<style scoped>\n",
              "    .dataframe tbody tr th:only-of-type {\n",
              "        vertical-align: middle;\n",
              "    }\n",
              "\n",
              "    .dataframe tbody tr th {\n",
              "        vertical-align: top;\n",
              "    }\n",
              "\n",
              "    .dataframe thead th {\n",
              "        text-align: right;\n",
              "    }\n",
              "</style>\n",
              "<table border=\"1\" class=\"dataframe\">\n",
              "  <thead>\n",
              "    <tr style=\"text-align: right;\">\n",
              "      <th></th>\n",
              "      <th>SUBDIVISION</th>\n",
              "      <th>YEAR</th>\n",
              "      <th>JAN</th>\n",
              "      <th>FEB</th>\n",
              "      <th>MAR</th>\n",
              "      <th>APR</th>\n",
              "      <th>MAY</th>\n",
              "      <th>JUN</th>\n",
              "      <th>JUL</th>\n",
              "      <th>AUG</th>\n",
              "      <th>SEP</th>\n",
              "      <th>OCT</th>\n",
              "      <th>NOV</th>\n",
              "      <th>DEC</th>\n",
              "      <th>ANNUAL</th>\n",
              "      <th>Jan-Feb</th>\n",
              "      <th>Mar-May</th>\n",
              "      <th>Jun-Sep</th>\n",
              "      <th>Oct-Dec</th>\n",
              "    </tr>\n",
              "  </thead>\n",
              "  <tbody>\n",
              "    <tr>\n",
              "      <th>0</th>\n",
              "      <td>ANDAMAN &amp; NICOBAR ISLANDS</td>\n",
              "      <td>1901</td>\n",
              "      <td>49.2</td>\n",
              "      <td>87.1</td>\n",
              "      <td>29.2</td>\n",
              "      <td>2.3</td>\n",
              "      <td>528.8</td>\n",
              "      <td>517.5</td>\n",
              "      <td>365.1</td>\n",
              "      <td>481.1</td>\n",
              "      <td>332.6</td>\n",
              "      <td>388.5</td>\n",
              "      <td>558.2</td>\n",
              "      <td>33.6</td>\n",
              "      <td>3373.2</td>\n",
              "      <td>136.3</td>\n",
              "      <td>560.3</td>\n",
              "      <td>1696.3</td>\n",
              "      <td>980.3</td>\n",
              "    </tr>\n",
              "    <tr>\n",
              "      <th>1</th>\n",
              "      <td>ANDAMAN &amp; NICOBAR ISLANDS</td>\n",
              "      <td>1902</td>\n",
              "      <td>0.0</td>\n",
              "      <td>159.8</td>\n",
              "      <td>12.2</td>\n",
              "      <td>0.0</td>\n",
              "      <td>446.1</td>\n",
              "      <td>537.1</td>\n",
              "      <td>228.9</td>\n",
              "      <td>753.7</td>\n",
              "      <td>666.2</td>\n",
              "      <td>197.2</td>\n",
              "      <td>359.0</td>\n",
              "      <td>160.5</td>\n",
              "      <td>3520.7</td>\n",
              "      <td>159.8</td>\n",
              "      <td>458.3</td>\n",
              "      <td>2185.9</td>\n",
              "      <td>716.7</td>\n",
              "    </tr>\n",
              "    <tr>\n",
              "      <th>2</th>\n",
              "      <td>ANDAMAN &amp; NICOBAR ISLANDS</td>\n",
              "      <td>1903</td>\n",
              "      <td>12.7</td>\n",
              "      <td>144.0</td>\n",
              "      <td>0.0</td>\n",
              "      <td>1.0</td>\n",
              "      <td>235.1</td>\n",
              "      <td>479.9</td>\n",
              "      <td>728.4</td>\n",
              "      <td>326.7</td>\n",
              "      <td>339.0</td>\n",
              "      <td>181.2</td>\n",
              "      <td>284.4</td>\n",
              "      <td>225.0</td>\n",
              "      <td>2957.4</td>\n",
              "      <td>156.7</td>\n",
              "      <td>236.1</td>\n",
              "      <td>1874.0</td>\n",
              "      <td>690.6</td>\n",
              "    </tr>\n",
              "    <tr>\n",
              "      <th>3</th>\n",
              "      <td>ANDAMAN &amp; NICOBAR ISLANDS</td>\n",
              "      <td>1904</td>\n",
              "      <td>9.4</td>\n",
              "      <td>14.7</td>\n",
              "      <td>0.0</td>\n",
              "      <td>202.4</td>\n",
              "      <td>304.5</td>\n",
              "      <td>495.1</td>\n",
              "      <td>502.0</td>\n",
              "      <td>160.1</td>\n",
              "      <td>820.4</td>\n",
              "      <td>222.2</td>\n",
              "      <td>308.7</td>\n",
              "      <td>40.1</td>\n",
              "      <td>3079.6</td>\n",
              "      <td>24.1</td>\n",
              "      <td>506.9</td>\n",
              "      <td>1977.6</td>\n",
              "      <td>571.0</td>\n",
              "    </tr>\n",
              "    <tr>\n",
              "      <th>4</th>\n",
              "      <td>ANDAMAN &amp; NICOBAR ISLANDS</td>\n",
              "      <td>1905</td>\n",
              "      <td>1.3</td>\n",
              "      <td>0.0</td>\n",
              "      <td>3.3</td>\n",
              "      <td>26.9</td>\n",
              "      <td>279.5</td>\n",
              "      <td>628.7</td>\n",
              "      <td>368.7</td>\n",
              "      <td>330.5</td>\n",
              "      <td>297.0</td>\n",
              "      <td>260.7</td>\n",
              "      <td>25.4</td>\n",
              "      <td>344.7</td>\n",
              "      <td>2566.7</td>\n",
              "      <td>1.3</td>\n",
              "      <td>309.7</td>\n",
              "      <td>1624.9</td>\n",
              "      <td>630.8</td>\n",
              "    </tr>\n",
              "  </tbody>\n",
              "</table>\n",
              "</div>"
            ],
            "text/plain": [
              "                 SUBDIVISION  YEAR   JAN    FEB   MAR    APR    MAY    JUN   \n",
              "0  ANDAMAN & NICOBAR ISLANDS  1901  49.2   87.1  29.2    2.3  528.8  517.5  \\\n",
              "1  ANDAMAN & NICOBAR ISLANDS  1902   0.0  159.8  12.2    0.0  446.1  537.1   \n",
              "2  ANDAMAN & NICOBAR ISLANDS  1903  12.7  144.0   0.0    1.0  235.1  479.9   \n",
              "3  ANDAMAN & NICOBAR ISLANDS  1904   9.4   14.7   0.0  202.4  304.5  495.1   \n",
              "4  ANDAMAN & NICOBAR ISLANDS  1905   1.3    0.0   3.3   26.9  279.5  628.7   \n",
              "\n",
              "     JUL    AUG    SEP    OCT    NOV    DEC  ANNUAL  Jan-Feb  Mar-May   \n",
              "0  365.1  481.1  332.6  388.5  558.2   33.6  3373.2    136.3    560.3  \\\n",
              "1  228.9  753.7  666.2  197.2  359.0  160.5  3520.7    159.8    458.3   \n",
              "2  728.4  326.7  339.0  181.2  284.4  225.0  2957.4    156.7    236.1   \n",
              "3  502.0  160.1  820.4  222.2  308.7   40.1  3079.6     24.1    506.9   \n",
              "4  368.7  330.5  297.0  260.7   25.4  344.7  2566.7      1.3    309.7   \n",
              "\n",
              "   Jun-Sep  Oct-Dec  \n",
              "0   1696.3    980.3  \n",
              "1   2185.9    716.7  \n",
              "2   1874.0    690.6  \n",
              "3   1977.6    571.0  \n",
              "4   1624.9    630.8  "
            ]
          },
          "execution_count": 14,
          "metadata": {},
          "output_type": "execute_result"
        }
      ],
      "source": [
        "df.head()"
      ]
    },
    {
      "cell_type": "code",
      "execution_count": 15,
      "metadata": {
        "colab": {
          "base_uri": "https://localhost:8080/"
        },
        "id": "N_vFgBUnXL6y",
        "outputId": "3b35b377-9775-4afb-a01e-ee280df4cdcc"
      },
      "outputs": [
        {
          "data": {
            "text/plain": [
              "SUBDIVISION    False\n",
              "YEAR           False\n",
              "JAN            False\n",
              "FEB            False\n",
              "MAR            False\n",
              "APR            False\n",
              "MAY            False\n",
              "JUN            False\n",
              "JUL            False\n",
              "AUG            False\n",
              "SEP            False\n",
              "OCT            False\n",
              "NOV            False\n",
              "DEC            False\n",
              "ANNUAL         False\n",
              "Jan-Feb        False\n",
              "Mar-May        False\n",
              "Jun-Sep        False\n",
              "Oct-Dec        False\n",
              "dtype: bool"
            ]
          },
          "execution_count": 15,
          "metadata": {},
          "output_type": "execute_result"
        }
      ],
      "source": [
        "df.isnull().any()"
      ]
    },
    {
      "cell_type": "code",
      "execution_count": 16,
      "metadata": {
        "colab": {
          "base_uri": "https://localhost:8080/"
        },
        "id": "Xwi0OicvXSoE",
        "outputId": "4ed08567-06aa-47cc-9665-70318bed14c6"
      },
      "outputs": [
        {
          "data": {
            "text/plain": [
              "(4116, 19)"
            ]
          },
          "execution_count": 16,
          "metadata": {},
          "output_type": "execute_result"
        }
      ],
      "source": [
        "df.shape"
      ]
    },
    {
      "cell_type": "code",
      "execution_count": 17,
      "metadata": {
        "colab": {
          "base_uri": "https://localhost:8080/",
          "height": 206
        },
        "id": "1DjiRqf4XYA5",
        "outputId": "cc8b2afb-03f5-4caf-85d9-a32f843c6125"
      },
      "outputs": [
        {
          "data": {
            "text/html": [
              "<div>\n",
              "<style scoped>\n",
              "    .dataframe tbody tr th:only-of-type {\n",
              "        vertical-align: middle;\n",
              "    }\n",
              "\n",
              "    .dataframe tbody tr th {\n",
              "        vertical-align: top;\n",
              "    }\n",
              "\n",
              "    .dataframe thead th {\n",
              "        text-align: right;\n",
              "    }\n",
              "</style>\n",
              "<table border=\"1\" class=\"dataframe\">\n",
              "  <thead>\n",
              "    <tr style=\"text-align: right;\">\n",
              "      <th></th>\n",
              "      <th>SUBDIVISION</th>\n",
              "      <th>YEAR</th>\n",
              "      <th>JAN</th>\n",
              "      <th>FEB</th>\n",
              "      <th>MAR</th>\n",
              "      <th>APR</th>\n",
              "      <th>MAY</th>\n",
              "      <th>JUN</th>\n",
              "      <th>JUL</th>\n",
              "      <th>AUG</th>\n",
              "      <th>SEP</th>\n",
              "      <th>OCT</th>\n",
              "      <th>NOV</th>\n",
              "      <th>DEC</th>\n",
              "      <th>ANNUAL</th>\n",
              "      <th>Jan-Feb</th>\n",
              "      <th>Mar-May</th>\n",
              "      <th>Jun-Sep</th>\n",
              "      <th>Oct-Dec</th>\n",
              "    </tr>\n",
              "  </thead>\n",
              "  <tbody>\n",
              "    <tr>\n",
              "      <th>2852</th>\n",
              "      <td>VIDARBHA</td>\n",
              "      <td>1901</td>\n",
              "      <td>36.8</td>\n",
              "      <td>39.9</td>\n",
              "      <td>30.9</td>\n",
              "      <td>26.1</td>\n",
              "      <td>7.3</td>\n",
              "      <td>129.7</td>\n",
              "      <td>295.3</td>\n",
              "      <td>368.8</td>\n",
              "      <td>123.4</td>\n",
              "      <td>35.2</td>\n",
              "      <td>0.0</td>\n",
              "      <td>0.0</td>\n",
              "      <td>1093.3</td>\n",
              "      <td>76.6</td>\n",
              "      <td>64.3</td>\n",
              "      <td>917.2</td>\n",
              "      <td>35.2</td>\n",
              "    </tr>\n",
              "    <tr>\n",
              "      <th>2853</th>\n",
              "      <td>VIDARBHA</td>\n",
              "      <td>1902</td>\n",
              "      <td>1.6</td>\n",
              "      <td>0.1</td>\n",
              "      <td>0.0</td>\n",
              "      <td>6.5</td>\n",
              "      <td>4.1</td>\n",
              "      <td>38.0</td>\n",
              "      <td>270.7</td>\n",
              "      <td>204.7</td>\n",
              "      <td>150.9</td>\n",
              "      <td>29.6</td>\n",
              "      <td>16.1</td>\n",
              "      <td>26.7</td>\n",
              "      <td>748.9</td>\n",
              "      <td>1.7</td>\n",
              "      <td>10.6</td>\n",
              "      <td>664.3</td>\n",
              "      <td>72.4</td>\n",
              "    </tr>\n",
              "    <tr>\n",
              "      <th>2854</th>\n",
              "      <td>VIDARBHA</td>\n",
              "      <td>1903</td>\n",
              "      <td>5.2</td>\n",
              "      <td>4.0</td>\n",
              "      <td>0.1</td>\n",
              "      <td>2.5</td>\n",
              "      <td>37.8</td>\n",
              "      <td>121.2</td>\n",
              "      <td>475.5</td>\n",
              "      <td>325.5</td>\n",
              "      <td>154.8</td>\n",
              "      <td>100.8</td>\n",
              "      <td>2.0</td>\n",
              "      <td>0.0</td>\n",
              "      <td>1229.4</td>\n",
              "      <td>9.3</td>\n",
              "      <td>40.3</td>\n",
              "      <td>1077.0</td>\n",
              "      <td>102.8</td>\n",
              "    </tr>\n",
              "    <tr>\n",
              "      <th>2855</th>\n",
              "      <td>VIDARBHA</td>\n",
              "      <td>1904</td>\n",
              "      <td>4.3</td>\n",
              "      <td>2.4</td>\n",
              "      <td>12.9</td>\n",
              "      <td>0.2</td>\n",
              "      <td>14.8</td>\n",
              "      <td>148.9</td>\n",
              "      <td>158.3</td>\n",
              "      <td>151.8</td>\n",
              "      <td>196.9</td>\n",
              "      <td>61.7</td>\n",
              "      <td>0.0</td>\n",
              "      <td>0.9</td>\n",
              "      <td>753.2</td>\n",
              "      <td>6.7</td>\n",
              "      <td>27.9</td>\n",
              "      <td>655.9</td>\n",
              "      <td>62.7</td>\n",
              "    </tr>\n",
              "    <tr>\n",
              "      <th>2856</th>\n",
              "      <td>VIDARBHA</td>\n",
              "      <td>1905</td>\n",
              "      <td>7.3</td>\n",
              "      <td>12.7</td>\n",
              "      <td>12.4</td>\n",
              "      <td>16.2</td>\n",
              "      <td>14.0</td>\n",
              "      <td>81.0</td>\n",
              "      <td>254.5</td>\n",
              "      <td>216.3</td>\n",
              "      <td>321.3</td>\n",
              "      <td>6.0</td>\n",
              "      <td>0.2</td>\n",
              "      <td>0.0</td>\n",
              "      <td>941.8</td>\n",
              "      <td>20.0</td>\n",
              "      <td>42.6</td>\n",
              "      <td>873.1</td>\n",
              "      <td>6.2</td>\n",
              "    </tr>\n",
              "  </tbody>\n",
              "</table>\n",
              "</div>"
            ],
            "text/plain": [
              "     SUBDIVISION  YEAR   JAN   FEB   MAR   APR   MAY    JUN    JUL    AUG   \n",
              "2852    VIDARBHA  1901  36.8  39.9  30.9  26.1   7.3  129.7  295.3  368.8  \\\n",
              "2853    VIDARBHA  1902   1.6   0.1   0.0   6.5   4.1   38.0  270.7  204.7   \n",
              "2854    VIDARBHA  1903   5.2   4.0   0.1   2.5  37.8  121.2  475.5  325.5   \n",
              "2855    VIDARBHA  1904   4.3   2.4  12.9   0.2  14.8  148.9  158.3  151.8   \n",
              "2856    VIDARBHA  1905   7.3  12.7  12.4  16.2  14.0   81.0  254.5  216.3   \n",
              "\n",
              "        SEP    OCT   NOV   DEC  ANNUAL  Jan-Feb  Mar-May  Jun-Sep  Oct-Dec  \n",
              "2852  123.4   35.2   0.0   0.0  1093.3     76.6     64.3    917.2     35.2  \n",
              "2853  150.9   29.6  16.1  26.7   748.9      1.7     10.6    664.3     72.4  \n",
              "2854  154.8  100.8   2.0   0.0  1229.4      9.3     40.3   1077.0    102.8  \n",
              "2855  196.9   61.7   0.0   0.9   753.2      6.7     27.9    655.9     62.7  \n",
              "2856  321.3    6.0   0.2   0.0   941.8     20.0     42.6    873.1      6.2  "
            ]
          },
          "execution_count": 17,
          "metadata": {},
          "output_type": "execute_result"
        }
      ],
      "source": [
        "vidharbhaRainfall= df.loc[((df['SUBDIVISION'] == 'VIDARBHA'))]\n",
        "vidharbhaRainfall.head(5)"
      ]
    },
    {
      "cell_type": "code",
      "execution_count": 18,
      "metadata": {
        "id": "k2QuUH4gXvOp"
      },
      "outputs": [],
      "source": [
        "X=vidharbhaRainfall.drop(['SUBDIVISION','YEAR','JAN', 'FEB','MAR','JUN','JUL','AUG','SEP','OCT','NOV','DEC','ANNUAL','Jan-Feb','Mar-May','Jun-Sep','Oct-Dec'], axis=1)"
      ]
    },
    {
      "cell_type": "code",
      "execution_count": 19,
      "metadata": {
        "id": "brKI-20SYUyR"
      },
      "outputs": [],
      "source": [
        "y=vidharbhaRainfall['ANNUAL']"
      ]
    },
    {
      "cell_type": "code",
      "execution_count": 20,
      "metadata": {
        "colab": {
          "base_uri": "https://localhost:8080/",
          "height": 206
        },
        "id": "jCaexILwYbHb",
        "outputId": "f492b50c-1777-4301-cb85-d190353ad6ca"
      },
      "outputs": [
        {
          "data": {
            "text/html": [
              "<div>\n",
              "<style scoped>\n",
              "    .dataframe tbody tr th:only-of-type {\n",
              "        vertical-align: middle;\n",
              "    }\n",
              "\n",
              "    .dataframe tbody tr th {\n",
              "        vertical-align: top;\n",
              "    }\n",
              "\n",
              "    .dataframe thead th {\n",
              "        text-align: right;\n",
              "    }\n",
              "</style>\n",
              "<table border=\"1\" class=\"dataframe\">\n",
              "  <thead>\n",
              "    <tr style=\"text-align: right;\">\n",
              "      <th></th>\n",
              "      <th>APR</th>\n",
              "      <th>MAY</th>\n",
              "    </tr>\n",
              "  </thead>\n",
              "  <tbody>\n",
              "    <tr>\n",
              "      <th>2852</th>\n",
              "      <td>26.1</td>\n",
              "      <td>7.3</td>\n",
              "    </tr>\n",
              "    <tr>\n",
              "      <th>2853</th>\n",
              "      <td>6.5</td>\n",
              "      <td>4.1</td>\n",
              "    </tr>\n",
              "    <tr>\n",
              "      <th>2854</th>\n",
              "      <td>2.5</td>\n",
              "      <td>37.8</td>\n",
              "    </tr>\n",
              "    <tr>\n",
              "      <th>2855</th>\n",
              "      <td>0.2</td>\n",
              "      <td>14.8</td>\n",
              "    </tr>\n",
              "    <tr>\n",
              "      <th>2856</th>\n",
              "      <td>16.2</td>\n",
              "      <td>14.0</td>\n",
              "    </tr>\n",
              "  </tbody>\n",
              "</table>\n",
              "</div>"
            ],
            "text/plain": [
              "       APR   MAY\n",
              "2852  26.1   7.3\n",
              "2853   6.5   4.1\n",
              "2854   2.5  37.8\n",
              "2855   0.2  14.8\n",
              "2856  16.2  14.0"
            ]
          },
          "execution_count": 20,
          "metadata": {},
          "output_type": "execute_result"
        }
      ],
      "source": [
        "X.head()"
      ]
    },
    {
      "cell_type": "code",
      "execution_count": 21,
      "metadata": {
        "id": "MsoD1FkIYkHX"
      },
      "outputs": [],
      "source": [
        "from sklearn.model_selection import train_test_split"
      ]
    },
    {
      "cell_type": "code",
      "execution_count": 22,
      "metadata": {
        "id": "PVJOuzJhYwxs"
      },
      "outputs": [],
      "source": [
        "X_train, X_test, y_train, y_test = train_test_split(X, y, test_size=0.3, random_state=101)"
      ]
    },
    {
      "cell_type": "code",
      "execution_count": 23,
      "metadata": {
        "colab": {
          "base_uri": "https://localhost:8080/"
        },
        "id": "BqIvrTrQY2gj",
        "outputId": "0291603d-a607-4af3-ef41-9665446235f8"
      },
      "outputs": [
        {
          "name": "stdout",
          "output_type": "stream",
          "text": [
            "The size of Training 'X' is (80, 2)\n",
            "The size of Training 'y' is (80,)\n",
            "The size of Testing 'X' is (35, 2)\n",
            "The size of Testing 'y' is (35,)\n"
          ]
        }
      ],
      "source": [
        "print(\"The size of Training 'X' is\", X_train.shape)\n",
        "print(\"The size of Training 'y' is\", y_train.shape)\n",
        "print(\"The size of Testing 'X' is\", X_test.shape)\n",
        "print(\"The size of Testing 'y' is\", y_test.shape)"
      ]
    },
    {
      "cell_type": "code",
      "execution_count": 24,
      "metadata": {
        "colab": {
          "base_uri": "https://localhost:8080/",
          "height": 296
        },
        "id": "wJeKpgTOZThz",
        "outputId": "5bd684d9-4b4b-4a86-cff0-652717ea4ade"
      },
      "outputs": [
        {
          "data": {
            "text/plain": [
              "<Axes: xlabel='APR', ylabel='ANNUAL'>"
            ]
          },
          "execution_count": 24,
          "metadata": {},
          "output_type": "execute_result"
        },
        {
          "data": {
            "image/png": "[encoded data removed]",
            "text/plain": [
              "<Figure size 640x480 with 1 Axes>"
            ]
          },
          "metadata": {},
          "output_type": "display_data"
        }
      ],
      "source": [
        "sns.scatterplot(x=X_train['APR'],y=y_train,data=df)"
      ]
    },
    {
      "cell_type": "code",
      "execution_count": 25,
      "metadata": {
        "colab": {
          "base_uri": "https://localhost:8080/",
          "height": 296
        },
        "id": "eoKgmKZMZb4T",
        "outputId": "bb897cf2-3d2d-4a36-ad78-9be367a6b328"
      },
      "outputs": [
        {
          "data": {
            "text/plain": [
              "<Axes: xlabel='MAY', ylabel='ANNUAL'>"
            ]
          },
          "execution_count": 25,
          "metadata": {},
          "output_type": "execute_result"
        },
        {
          "data": {
            "image/png": "[encoded data removed]",
            "text/plain": [
              "<Figure size 640x480 with 1 Axes>"
            ]
          },
          "metadata": {},
          "output_type": "display_data"
        }
      ],
      "source": [
        "sns.scatterplot(x=X_train['MAY'],y=y_train,data=df)"
      ]
    },
    {
      "cell_type": "code",
      "execution_count": 26,
      "metadata": {
        "id": "kXDmZhBWZfTV"
      },
      "outputs": [],
      "source": [
        "from sklearn.preprocessing import StandardScaler"
      ]
    },
    {
      "cell_type": "code",
      "execution_count": 27,
      "metadata": {
        "id": "QuJbGQnTZsDa"
      },
      "outputs": [],
      "source": [
        "scaler=StandardScaler()"
      ]
    },
    {
      "cell_type": "code",
      "execution_count": 28,
      "metadata": {
        "id": "_mdrqqo0ZujQ"
      },
      "outputs": [],
      "source": [
        "scaled_X_train=scaler.fit_transform(X_train)"
      ]
    },
    {
      "cell_type": "code",
      "execution_count": 29,
      "metadata": {
        "id": "lByAW36oZ3d-"
      },
      "outputs": [],
      "source": [
        "scaled_X_test=scaler.transform(X_test)"
      ]
    },
    {
      "cell_type": "code",
      "execution_count": 30,
      "metadata": {
        "id": "kPSBlkpVZ60I"
      },
      "outputs": [],
      "source": [
        "from sklearn.svm import SVR,LinearSVR"
      ]
    },
    {
      "cell_type": "code",
      "execution_count": 31,
      "metadata": {
        "id": "RLBzo5onZ7_X"
      },
      "outputs": [],
      "source": [
        "base_model=SVR()"
      ]
    },
    {
      "cell_type": "code",
      "execution_count": 32,
      "metadata": {
        "colab": {
          "base_uri": "https://localhost:8080/"
        },
        "id": "w3ZU85mhaB1p",
        "outputId": "3d54dc94-ca2a-489f-e6ec-a57e1a917ee2"
      },
      "outputs": [
        {
          "data": {
            "text/html": [
              "<style>#sk-container-id-1 {color: black;background-color: white;}#sk-container-id-1 pre{padding: 0;}#sk-container-id-1 div.sk-toggleable {background-color: white;}#sk-container-id-1 label.sk-toggleable__label {cursor: pointer;display: block;width: 100%;margin-bottom: 0;padding: 0.3em;box-sizing: border-box;text-align: center;}#sk-container-id-1 label.sk-toggleable__label-arrow:before {content: \"▸\";float: left;margin-right: 0.25em;color: #696969;}#sk-container-id-1 label.sk-toggleable__label-arrow:hover:before {color: black;}#sk-container-id-1 div.sk-estimator:hover label.sk-toggleable__label-arrow:before {color: black;}#sk-container-id-1 div.sk-toggleable__content {max-height: 0;max-width: 0;overflow: hidden;text-align: left;background-color: #f0f8ff;}#sk-container-id-1 div.sk-toggleable__content pre {margin: 0.2em;color: black;border-radius: 0.25em;background-color: #f0f8ff;}#sk-container-id-1 input.sk-toggleable__control:checked~div.sk-toggleable__content {max-height: 200px;max-width: 100%;overflow: auto;}#sk-container-id-1 input.sk-toggleable__control:checked~label.sk-toggleable__label-arrow:before {content: \"▾\";}#sk-container-id-1 div.sk-estimator input.sk-toggleable__control:checked~label.sk-toggleable__label {background-color: #d4ebff;}#sk-container-id-1 div.sk-label input.sk-toggleable__control:checked~label.sk-toggleable__label {background-color: #d4ebff;}#sk-container-id-1 input.sk-hidden--visually {border: 0;clip: rect(1px 1px 1px 1px);clip: rect(1px, 1px, 1px, 1px);height: 1px;margin: -1px;overflow: hidden;padding: 0;position: absolute;width: 1px;}#sk-container-id-1 div.sk-estimator {font-family: monospace;background-color: #f0f8ff;border: 1px dotted black;border-radius: 0.25em;box-sizing: border-box;margin-bottom: 0.5em;}#sk-container-id-1 div.sk-estimator:hover {background-color: #d4ebff;}#sk-container-id-1 div.sk-parallel-item::after {content: \"\";width: 100%;border-bottom: 1px solid gray;flex-grow: 1;}#sk-container-id-1 div.sk-label:hover label.sk-toggleable__label {background-color: #d4ebff;}#sk-container-id-1 div.sk-serial::before {content: \"\";position: absolute;border-left: 1px solid gray;box-sizing: border-box;top: 0;bottom: 0;left: 50%;z-index: 0;}#sk-container-id-1 div.sk-serial {display: flex;flex-direction: column;align-items: center;background-color: white;padding-right: 0.2em;padding-left: 0.2em;position: relative;}#sk-container-id-1 div.sk-item {position: relative;z-index: 1;}#sk-container-id-1 div.sk-parallel {display: flex;align-items: stretch;justify-content: center;background-color: white;position: relative;}#sk-container-id-1 div.sk-item::before, #sk-container-id-1 div.sk-parallel-item::before {content: \"\";position: absolute;border-left: 1px solid gray;box-sizing: border-box;top: 0;bottom: 0;left: 50%;z-index: -1;}#sk-container-id-1 div.sk-parallel-item {display: flex;flex-direction: column;z-index: 1;position: relative;background-color: white;}#sk-container-id-1 div.sk-parallel-item:first-child::after {align-self: flex-end;width: 50%;}#sk-container-id-1 div.sk-parallel-item:last-child::after {align-self: flex-start;width: 50%;}#sk-container-id-1 div.sk-parallel-item:only-child::after {width: 0;}#sk-container-id-1 div.sk-dashed-wrapped {border: 1px dashed gray;margin: 0 0.4em 0.5em 0.4em;box-sizing: border-box;padding-bottom: 0.4em;background-color: white;}#sk-container-id-1 div.sk-label label {font-family: monospace;font-weight: bold;display: inline-block;line-height: 1.2em;}#sk-container-id-1 div.sk-label-container {text-align: center;}#sk-container-id-1 div.sk-container {/* jupyter's `normalize.less` sets `[hidden] { display: none; }` but bootstrap.min.css set `[hidden] { display: none !important; }` so we also need the `!important` here to be able to override the default hidden behavior on the sphinx rendered scikit-learn.org. See: https://github.com/scikit-learn/scikit-learn/issues/21755 */display: inline-block !important;position: relative;}#sk-container-id-1 div.sk-text-repr-fallback {display: none;}</style><div id=\"sk-container-id-1\" class=\"sk-top-container\"><div class=\"sk-text-repr-fallback\"><pre>SVR()</pre><b>In a Jupyter environment, please rerun this cell to show the HTML representation or trust the notebook. <br />On GitHub, the HTML representation is unable to render, please try loading this page with nbviewer.org.</b></div><div class=\"sk-container\" hidden><div class=\"sk-item\"><div class=\"sk-estimator sk-toggleable\"><input class=\"sk-toggleable__control sk-hidden--visually\" id=\"sk-estimator-id-1\" type=\"checkbox\" checked><label for=\"sk-estimator-id-1\" class=\"sk-toggleable__label sk-toggleable__label-arrow\">SVR</label><div class=\"sk-toggleable__content\"><pre>SVR()</pre></div></div></div></div></div>"
            ],
            "text/plain": [
              "SVR()"
            ]
          },
          "execution_count": 32,
          "metadata": {},
          "output_type": "execute_result"
        }
      ],
      "source": [
        "base_model.fit(scaled_X_train,y_train)"
      ]
    },
    {
      "cell_type": "code",
      "execution_count": 33,
      "metadata": {
        "id": "ESlwaMpTaG_f"
      },
      "outputs": [],
      "source": [
        "base_preds=base_model.predict(scaled_X_test)  #predicts y test"
      ]
    },
    {
      "cell_type": "code",
      "execution_count": 34,
      "metadata": {
        "colab": {
          "base_uri": "https://localhost:8080/"
        },
        "id": "zbCKuaYTaNYH",
        "outputId": "5cac5d2a-50ce-4da3-ab6f-af5cbc823fc8"
      },
      "outputs": [
        {
          "data": {
            "text/plain": [
              "array([1064.0207294 , 1068.47607833, 1060.29345209, 1068.28062288,\n",
              "       1061.12702385, 1061.32716155, 1066.88391829, 1066.10205602,\n",
              "       1061.0510003 , 1062.27326585, 1060.56658576, 1060.61156509,\n",
              "       1062.12952893, 1066.32504915, 1068.4605584 , 1059.85542758,\n",
              "       1065.6784526 , 1068.39254885, 1059.88286485, 1066.0991205 ,\n",
              "       1063.04154079, 1065.50454944, 1060.13985529, 1063.15220008,\n",
              "       1066.46607061, 1065.00861808, 1067.87883429, 1059.70317546,\n",
              "       1059.99852047, 1067.78519062, 1067.95826037, 1063.34233488,\n",
              "       1067.78558379, 1061.42326916, 1067.14815876])"
            ]
          },
          "execution_count": 34,
          "metadata": {},
          "output_type": "execute_result"
        }
      ],
      "source": [
        "base_preds "
      ]
    },
    {
      "cell_type": "code",
      "execution_count": null,
      "metadata": {
        "id": "l-MzQfHeaP9w"
      },
      "outputs": [],
      "source": [
        "from sklearn.metrics import mean_absolute_error,mean_squared_error"
      ]
    },
    {
      "cell_type": "code",
      "execution_count": null,
      "metadata": {
        "colab": {
          "base_uri": "https://localhost:8080/"
        },
        "id": "3ixqA_ipaWG_",
        "outputId": "f55e5ebb-2a49-488e-8714-6e8a5298209e"
      },
      "outputs": [
        {
          "data": {
            "text/plain": [
              "155.26112447917043"
            ]
          },
          "execution_count": 41,
          "metadata": {},
          "output_type": "execute_result"
        }
      ],
      "source": [
        "mean_absolute_error(y_test,base_preds)"
      ]
    },
    {
      "cell_type": "code",
      "execution_count": null,
      "metadata": {
        "colab": {
          "base_uri": "https://localhost:8080/"
        },
        "id": "Q28ozoUmadGJ",
        "outputId": "7e0d3079-7630-48fd-f730-210b42bb294f"
      },
      "outputs": [
        {
          "data": {
            "text/plain": [
              "196.20893370210712"
            ]
          },
          "execution_count": 42,
          "metadata": {},
          "output_type": "execute_result"
        }
      ],
      "source": [
        "np.sqrt(mean_squared_error(y_test,base_preds))"
      ]
    },
    {
      "cell_type": "code",
      "execution_count": null,
      "metadata": {
        "colab": {
          "base_uri": "https://localhost:8080/"
        },
        "id": "wNYDTpFjahyB",
        "outputId": "9abb1f1a-acbb-49f4-aa2a-39cb84d81fdc"
      },
      "outputs": [
        {
          "data": {
            "text/plain": [
              "1146.562857142857"
            ]
          },
          "execution_count": 43,
          "metadata": {},
          "output_type": "execute_result"
        }
      ],
      "source": [
        "y_test.mean()"
      ]
    },
    {
      "cell_type": "code",
      "execution_count": null,
      "metadata": {
        "id": "Qf8heEAKatG-"
      },
      "outputs": [],
      "source": [
        "param_grid={'C':[0.001,0.01,0.1,0.5,1],\n",
        "            'kernel':['linear','rbf','poly'],\n",
        "            'gamma':['scale','auto'],\n",
        "            'degree':[2,3,4],\n",
        "            'epsilon':[0,0.01,0.1,0.5,1,2]}"
      ]
    },
    {
      "cell_type": "code",
      "execution_count": null,
      "metadata": {
        "id": "b9HguLXZaxZC"
      },
      "outputs": [],
      "source": [
        "from sklearn.model_selection import GridSearchCV"
      ]
    },
    {
      "cell_type": "code",
      "execution_count": null,
      "metadata": {
        "id": "sd0HH52_bCjO"
      },
      "outputs": [],
      "source": [
        "svr=SVR()"
      ]
    },
    {
      "cell_type": "code",
      "execution_count": null,
      "metadata": {
        "id": "koNFWT_nbI10"
      },
      "outputs": [],
      "source": [
        "grid=GridSearchCV(svr,param_grid)"
      ]
    },
    {
      "cell_type": "code",
      "execution_count": null,
      "metadata": {
        "colab": {
          "base_uri": "https://localhost:8080/"
        },
        "id": "4SjJBviRbK3Q",
        "outputId": "7a15dcfb-57a2-4c70-dd2f-e128e8ae4f2d"
      },
      "outputs": [
        {
          "data": {
            "text/plain": [
              "GridSearchCV(estimator=SVR(),\n",
              "             param_grid={'C': [0.001, 0.01, 0.1, 0.5, 1], 'degree': [2, 3, 4],\n",
              "                         'epsilon': [0, 0.01, 0.1, 0.5, 1, 2],\n",
              "                         'gamma': ['scale', 'auto'],\n",
              "                         'kernel': ['linear', 'rbf', 'poly']})"
            ]
          },
          "execution_count": 49,
          "metadata": {},
          "output_type": "execute_result"
        }
      ],
      "source": [
        "grid.fit(scaled_X_train,y_train)"
      ]
    },
    {
      "cell_type": "code",
      "execution_count": null,
      "metadata": {
        "colab": {
          "base_uri": "https://localhost:8080/"
        },
        "id": "JMoC-hc4bPok",
        "outputId": "5fc12bf8-ab0e-4f2d-abdf-b20f66fa8b9d"
      },
      "outputs": [
        {
          "data": {
            "text/plain": [
              "{'C': 0.5, 'degree': 2, 'epsilon': 0.1, 'gamma': 'scale', 'kernel': 'linear'}"
            ]
          },
          "execution_count": 50,
          "metadata": {},
          "output_type": "execute_result"
        }
      ],
      "source": [
        "grid.best_params_"
      ]
    },
    {
      "cell_type": "code",
      "execution_count": null,
      "metadata": {
        "id": "xGMV3KLebSgU"
      },
      "outputs": [],
      "source": [
        "grid_preds=grid.predict(scaled_X_test)"
      ]
    },
    {
      "cell_type": "code",
      "execution_count": null,
      "metadata": {
        "colab": {
          "base_uri": "https://localhost:8080/"
        },
        "id": "_M9ElhI7blRO",
        "outputId": "5ad40365-ae25-456a-f6a0-27b6374d4290"
      },
      "outputs": [
        {
          "data": {
            "text/plain": [
              "156.50744536479039"
            ]
          },
          "execution_count": 52,
          "metadata": {},
          "output_type": "execute_result"
        }
      ],
      "source": [
        "mean_absolute_error(y_test,grid_preds)"
      ]
    },
    {
      "cell_type": "code",
      "execution_count": null,
      "metadata": {
        "colab": {
          "base_uri": "https://localhost:8080/"
        },
        "id": "d4onYcl3bnjY",
        "outputId": "58fb8aa2-86c4-48c3-cc86-b873ef0e805a"
      },
      "outputs": [
        {
          "data": {
            "text/plain": [
              "197.13843846835738"
            ]
          },
          "execution_count": 53,
          "metadata": {},
          "output_type": "execute_result"
        }
      ],
      "source": [
        "np.sqrt(mean_squared_error(y_test,grid_preds))"
      ]
    },
    {
      "cell_type": "code",
      "execution_count": null,
      "metadata": {
        "id": "1M841OK9bzwx"
      },
      "outputs": [],
      "source": [
        "final_model=SVR(C=0.5,kernel=\"linear\")"
      ]
    },
    {
      "cell_type": "code",
      "execution_count": null,
      "metadata": {
        "colab": {
          "base_uri": "https://localhost:8080/"
        },
        "id": "ktGgzKdYb3KB",
        "outputId": "3ce4a437-2694-41dc-8194-4ff50a837d33"
      },
      "outputs": [
        {
          "data": {
            "text/plain": [
              "SVR(C=0.5, kernel='linear')"
            ]
          },
          "execution_count": 55,
          "metadata": {},
          "output_type": "execute_result"
        }
      ],
      "source": [
        "final_model.fit(X,y)"
      ]
    },
    {
      "cell_type": "code",
      "execution_count": null,
      "metadata": {
        "colab": {
          "base_uri": "https://localhost:8080/"
        },
        "id": "LqZg4MN7b7iP",
        "outputId": "dbbd8cda-542e-41ca-80a9-9adccf950845"
      },
      "outputs": [
        {
          "data": {
            "text/plain": [
              "array([[2.59847585, 4.36629872]])"
            ]
          },
          "execution_count": 56,
          "metadata": {},
          "output_type": "execute_result"
        }
      ],
      "source": [
        "final_model.coef_"
      ]
    },
    {
      "cell_type": "code",
      "execution_count": null,
      "metadata": {
        "id": "zF0SpDl1b_5M"
      },
      "outputs": [],
      "source": [
        "from joblib import dump,load"
      ]
    },
    {
      "cell_type": "code",
      "execution_count": null,
      "metadata": {
        "colab": {
          "base_uri": "https://localhost:8080/"
        },
        "id": "B4DVBBnScSaH",
        "outputId": "3ba85046-7ea9-4acd-87a8-fe1531914510"
      },
      "outputs": [
        {
          "data": {
            "text/plain": [
              "['final_rainfall_model.joblib']"
            ]
          },
          "execution_count": 60,
          "metadata": {},
          "output_type": "execute_result"
        }
      ],
      "source": [
        "dump(final_model,'final_rainfall_model.joblib')"
      ]
    },
    {
      "cell_type": "code",
      "execution_count": null,
      "metadata": {
        "id": "PJVlT840cVFX"
      },
      "outputs": [],
      "source": [
        "loaded_model=load('final_rainfall_model.joblib')"
      ]
    },
    {
      "cell_type": "code",
      "execution_count": null,
      "metadata": {
        "colab": {
          "base_uri": "https://localhost:8080/"
        },
        "id": "-8s1I_CwceAY",
        "outputId": "0caf8927-b2f4-4068-d29f-a44cd6dcfe9d"
      },
      "outputs": [
        {
          "data": {
            "text/plain": [
              "array([[2.59847585, 4.36629872]])"
            ]
          },
          "execution_count": 62,
          "metadata": {},
          "output_type": "execute_result"
        }
      ],
      "source": [
        "loaded_model.coef_"
      ]
    },
    {
      "cell_type": "code",
      "execution_count": null,
      "metadata": {
        "id": "dnHmmCstcfny"
      },
      "outputs": [],
      "source": [
        "campaign=[[26.1,7.3]]"
      ]
    },
    {
      "cell_type": "code",
      "execution_count": null,
      "metadata": {
        "colab": {
          "base_uri": "https://localhost:8080/"
        },
        "id": "y-bO1jWddHat",
        "outputId": "5af582cf-b7e3-41b5-cac7-6a99b27ed17a"
      },
      "outputs": [
        {
          "name": "stderr",
          "output_type": "stream",
          "text": [
            "/usr/local/lib/python3.8/dist-packages/sklearn/base.py:450: UserWarning: X does not have valid feature names, but SVR was fitted with feature names\n",
            "  warnings.warn(\n"
          ]
        },
        {
          "data": {
            "text/plain": [
              "array([1119.2967219])"
            ]
          },
          "execution_count": 64,
          "metadata": {},
          "output_type": "execute_result"
        }
      ],
      "source": [
        "loaded_model.predict(campaign)"
      ]
    }
  ],
  "metadata": {
    "colab": {
      "provenance": []
    },
    "kernelspec": {
      "display_name": "Python 3",
      "name": "python3"
    },
    "language_info": {
      "codemirror_mode": {
        "name": "ipython",
        "version": 3
      },
      "file_extension": ".py",
      "mimetype": "text/x-python",
      "name": "python",
      "nbconvert_exporter": "python",
      "pygments_lexer": "ipython3",
      "version": "3.10.6"
    }
  },
  "nbformat": 4,
  "nbformat_minor": 0
}
